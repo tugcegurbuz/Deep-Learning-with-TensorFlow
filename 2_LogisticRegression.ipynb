{
  "nbformat": 4,
  "nbformat_minor": 0,
  "metadata": {
    "colab": {
      "name": "DL_TF_Lab2.ipynb",
      "version": "0.3.2",
      "provenance": [],
      "collapsed_sections": [],
      "include_colab_link": true
    },
    "kernelspec": {
      "name": "python3",
      "display_name": "Python 3"
    }
  },
  "cells": [
    {
      "cell_type": "markdown",
      "metadata": {
        "id": "view-in-github",
        "colab_type": "text"
      },
      "source": [
        "<a href=\"https://colab.research.google.com/github/tugcegurbuz/DeepLearning_TF/blob/master/DL_TF_Lab2.ipynb\" target=\"_parent\"><img src=\"https://colab.research.google.com/assets/colab-badge.svg\" alt=\"Open In Colab\"/></a>"
      ]
    },
    {
      "cell_type": "markdown",
      "metadata": {
        "id": "Ihp7haxrKEJz",
        "colab_type": "text"
      },
      "source": [
        "**Description:** In this lab we will deal with logistic regression with TensorFlow\n",
        "\n",
        "Example dataset: Iris\n",
        "\n",
        "Prepared by Tugce Gurbuz\n",
        "\n",
        "Reference: https://labs.cognitiveclass.ai/tools/jupyterlab/lab/tree/labs/ML0120EN/ML0120EN-1.4-Review-LogisticRegressionwithTensorFlow.ipynb\n",
        "\n",
        "---"
      ]
    },
    {
      "cell_type": "markdown",
      "metadata": {
        "id": "HXJd5uFeKlbX",
        "colab_type": "text"
      },
      "source": [
        "Despite the name logistic <i>regression</i>, it is actually a <b>probabilistic classification</b> model. Logistic regression fits a special s-shaped curve by taking the linear regression and transforming the numeric estimate into a probability with the following function:\n",
        "\n",
        "$$\n",
        "ProbabilityOfaClass = \\theta(y) = \\frac{e^y}{1 + e^y} = exp(y) / (1 + exp(y)) = p \n",
        "$$\n"
      ]
    },
    {
      "cell_type": "code",
      "metadata": {
        "id": "L19eHakmJ9Ht",
        "colab_type": "code",
        "colab": {}
      },
      "source": [
        "#Import required libraries\n",
        "import tensorflow as tf\n",
        "import pandas as pd\n",
        "import numpy as np\n",
        "import time\n",
        "from sklearn.datasets import load_iris\n",
        "from sklearn.model_selection import train_test_split\n",
        "import matplotlib.pyplot as plt"
      ],
      "execution_count": 0,
      "outputs": []
    },
    {
      "cell_type": "code",
      "metadata": {
        "id": "rB6JrnR2K5LI",
        "colab_type": "code",
        "colab": {}
      },
      "source": [
        "#Load the iris data\n",
        "iris = load_iris()\n",
        "\n",
        "#Get IVs and DVs from the dataset\n",
        "iris_X, iris_y = iris.data[:-1,:], iris.target[:-1]\n",
        "\n",
        "#Convert categorical DV into dummy/indicator variables\n",
        "iris_y= pd.get_dummies(iris_y).values\n",
        "\n",
        "#Train X and Y by splitting the data into 2 pieces(e.g., test and training data)\n",
        "#by 0.33 proportion\n",
        "trainX, testX, trainY, testY = train_test_split(iris_X, iris_y, test_size=0.33, \n",
        "                                                random_state=42)"
      ],
      "execution_count": 0,
      "outputs": []
    },
    {
      "cell_type": "markdown",
      "metadata": {
        "id": "gG5tdVwimxRS",
        "colab_type": "text"
      },
      "source": [
        "Now,  we will have placeholders to hold our iris data and pass these data to different parts of our algorithm. Shape of our placeholders and shape of the data should be compatible.  So, we will first get the shape of our x and y."
      ]
    },
    {
      "cell_type": "code",
      "metadata": {
        "id": "GL2qpAndmrU8",
        "colab_type": "code",
        "colab": {}
      },
      "source": [
        "# numFeatures is the number of features in our input data.\n",
        "# In the iris dataset, this number is '4'.\n",
        "numFeatures = trainX.shape[1]\n",
        "\n",
        "# numLabels is the number of classes our data points can be in.\n",
        "# In the iris dataset, this number is '3'.\n",
        "numLabels = trainY.shape[1]"
      ],
      "execution_count": 0,
      "outputs": []
    },
    {
      "cell_type": "code",
      "metadata": {
        "id": "XMDmaT53mwAB",
        "colab_type": "code",
        "colab": {
          "base_uri": "https://localhost:8080/",
          "height": 34
        },
        "outputId": "b7a781a6-0d55-457b-b7e3-8a258c3d142c"
      },
      "source": [
        "numFeatures, numLabels"
      ],
      "execution_count": 5,
      "outputs": [
        {
          "output_type": "execute_result",
          "data": {
            "text/plain": [
              "(4, 3)"
            ]
          },
          "metadata": {
            "tags": []
          },
          "execution_count": 5
        }
      ]
    },
    {
      "cell_type": "code",
      "metadata": {
        "id": "x07BowROnQZ4",
        "colab_type": "code",
        "colab": {}
      },
      "source": [
        "#Now, let's create placeholders\n",
        "\n",
        "# 'None' means TensorFlow shouldn't expect a fixed number in that dimension\n",
        "\n",
        "# Iris has 4 features, so X is a tensor to hold our data.\n",
        "X = tf.placeholder(tf.float32, [None, numFeatures]) \n",
        "\n",
        "# This will be our correct answers matrix for 3 classes.\n",
        "yGold = tf.placeholder(tf.float32, [None, numLabels]) "
      ],
      "execution_count": 0,
      "outputs": []
    },
    {
      "cell_type": "code",
      "metadata": {
        "id": "fdYvOfojoHjo",
        "colab_type": "code",
        "colab": {
          "base_uri": "https://localhost:8080/",
          "height": 51
        },
        "outputId": "5970827f-818a-4d5c-acb3-16c0275fb6b7"
      },
      "source": [
        "X, yGold"
      ],
      "execution_count": 7,
      "outputs": [
        {
          "output_type": "execute_result",
          "data": {
            "text/plain": [
              "(<tf.Tensor 'Placeholder:0' shape=(?, 4) dtype=float32>,\n",
              " <tf.Tensor 'Placeholder_1:0' shape=(?, 3) dtype=float32>)"
            ]
          },
          "metadata": {
            "tags": []
          },
          "execution_count": 7
        }
      ]
    },
    {
      "cell_type": "markdown",
      "metadata": {
        "id": "v55LW6bkoZIr",
        "colab_type": "text"
      },
      "source": [
        "Like linear regression, we need a variable **weight** matrix for logistic regression. Since this weight matrix will be learn by our model, initial values of them are not important.\n",
        "\n",
        "Variables:\n",
        "\n",
        "* **W** has a shape of [4, 3] because we want to multiply the 4-dimensional input vectors by it to produce 3-dimensional vectors of evidence for the difference classes. \n",
        "\n",
        "* **b** has a shape of [3] so we can add it to the output. \n",
        "\n",
        "Note: Unlike our placeholders above which are essentially empty shells waiting to be fed data, TensorFlow variables need to be initialized with values. That is why we initialize them as zeros."
      ]
    },
    {
      "cell_type": "code",
      "metadata": {
        "id": "NnRcSRC-oJ93",
        "colab_type": "code",
        "colab": {}
      },
      "source": [
        "#Initialize the TF variables\n",
        "W = tf.Variable(tf.zeros([4, 3]))  # 4-dimensional input and  3 classes\n",
        "b = tf.Variable(tf.zeros([3])) # 3-dimensional output [0,0,1],[0,1,0],[1,0,0]"
      ],
      "execution_count": 0,
      "outputs": []
    },
    {
      "cell_type": "code",
      "metadata": {
        "id": "5vnvyhMfpd4e",
        "colab_type": "code",
        "colab": {}
      },
      "source": [
        "#Randomly sample from a normal distribution with standard deviation .01\n",
        "#Because, we will learn through these samples\n",
        "\n",
        "weights = tf.Variable(tf.random_normal([numFeatures,numLabels],\n",
        "                                       mean=0,\n",
        "                                       stddev=0.01,\n",
        "                                       name=\"weights\"))\n",
        "\n",
        "bias = tf.Variable(tf.random_normal([1,numLabels],\n",
        "                                    mean=0,\n",
        "                                    stddev=0.01,\n",
        "                                    name=\"bias\"))"
      ],
      "execution_count": 0,
      "outputs": []
    },
    {
      "cell_type": "markdown",
      "metadata": {
        "id": "oBh5gK5IrskE",
        "colab_type": "text"
      },
      "source": [
        "Now, we need to define logistic regression operations for our model.\n",
        "\n",
        "Verbal expression of the model: multiply weight with feature matrix, add bias and apply sigmoid function.\n",
        "\n",
        "$$\n",
        "ŷ =sigmoid(WX+b)\n",
        "$$\n",
        "\n",
        "Note: Logistic function applied as sigmoid function in TF"
      ]
    },
    {
      "cell_type": "code",
      "metadata": {
        "id": "Oko5G5brqCZu",
        "colab_type": "code",
        "colab": {}
      },
      "source": [
        "# Three-component breakdown of the Logistic Regression equation.\n",
        "\n",
        "apply_weights_OP = tf.matmul(X, weights, name=\"apply_weights\")\n",
        "add_bias_OP = tf.add(apply_weights_OP, bias, name=\"add_bias\") \n",
        "activation_OP = tf.nn.sigmoid(add_bias_OP, name=\"activation\")"
      ],
      "execution_count": 0,
      "outputs": []
    },
    {
      "cell_type": "markdown",
      "metadata": {
        "id": "7h39glDqvYPA",
        "colab_type": "text"
      },
      "source": [
        "The learning algorithm is how we search for the best weight vector (**W**). This search is an **optimization problem** looking for the hypothesis that optimizes an error/cost measure.\n",
        "\n",
        "Type of cost function to use for optimization: We will use squared mean error lost function.\n",
        "\n",
        "To minimize the cost function, we will use **gradient descend** which calculates the gradient from all data points in the data set."
      ]
    },
    {
      "cell_type": "code",
      "metadata": {
        "id": "aft4RekFtCfM",
        "colab_type": "code",
        "colab": {}
      },
      "source": [
        "# First step: Define how long we will train and learning rate(e.g.,stepsize)\n",
        "\n",
        "#Number of Epochs in our training\n",
        "numEpochs = 700\n",
        "\n",
        "# Defining our learning rate iterations (decay)\n",
        "learningRate = tf.train.exponential_decay(learning_rate=0.0008,\n",
        "                                          global_step= 1,\n",
        "                                          decay_steps=trainX.shape[0],\n",
        "                                          decay_rate= 0.95,\n",
        "                                          staircase=True)"
      ],
      "execution_count": 0,
      "outputs": []
    },
    {
      "cell_type": "code",
      "metadata": {
        "id": "CDKLzD-_wSh8",
        "colab_type": "code",
        "colab": {}
      },
      "source": [
        "#Second step: define cost and gradient descend functions\n",
        "\n",
        "#Defining our cost function - Squared Mean Error\n",
        "cost_OP = tf.nn.l2_loss(activation_OP-yGold, name=\"squared_error_cost\")\n",
        "\n",
        "#Defining our Gradient Descent\n",
        "training_OP = tf.train.GradientDescentOptimizer(learningRate).minimize(cost_OP)"
      ],
      "execution_count": 0,
      "outputs": []
    },
    {
      "cell_type": "code",
      "metadata": {
        "id": "BZ7TSgmowwy7",
        "colab_type": "code",
        "colab": {}
      },
      "source": [
        "#Third step: start session and run it\n",
        "\n",
        "# Create a tensorflow session\n",
        "sess = tf.Session()\n",
        "\n",
        "# Initialize our weights and biases variables.\n",
        "init_OP = tf.global_variables_initializer()\n",
        "\n",
        "# Initialize all tensorflow variables\n",
        "sess.run(init_OP)"
      ],
      "execution_count": 0,
      "outputs": []
    },
    {
      "cell_type": "code",
      "metadata": {
        "id": "XBn3TiySxHgG",
        "colab_type": "code",
        "colab": {}
      },
      "source": [
        "# argmax(activation_OP, 1) returns the label with the most probability\n",
        "# argmax(yGold, 1) is the correct label\n",
        "correct_predictions_OP = tf.equal(tf.argmax(activation_OP,1),tf.argmax(yGold,1))\n",
        "\n",
        "# If every false prediction is 0 and every true prediction is 1, \n",
        "#the average returns us the accuracy\n",
        "accuracy_OP = tf.reduce_mean(tf.cast(correct_predictions_OP, \"float\"))\n",
        "\n",
        "# Summary op for regression output\n",
        "activation_summary_OP = tf.summary.histogram(\"output\", activation_OP)\n",
        "\n",
        "# Summary op for accuracy\n",
        "accuracy_summary_OP = tf.summary.scalar(\"accuracy\", accuracy_OP)\n",
        "\n",
        "# Summary op for cost\n",
        "cost_summary_OP = tf.summary.scalar(\"cost\", cost_OP)\n",
        "\n",
        "# Summary ops to check how variables (W, b) are updating after each iteration\n",
        "weightSummary = tf.summary.histogram(\"weights\", weights.eval(session=sess))\n",
        "biasSummary = tf.summary.histogram(\"biases\", bias.eval(session=sess))\n",
        "\n",
        "# Merge all summaries\n",
        "merged = tf.summary.merge([activation_summary_OP, accuracy_summary_OP, \n",
        "                           cost_summary_OP, weightSummary, biasSummary])\n",
        "\n",
        "# Summary writer\n",
        "writer = tf.summary.FileWriter(\"summary_logs\", sess.graph)"
      ],
      "execution_count": 0,
      "outputs": []
    },
    {
      "cell_type": "code",
      "metadata": {
        "id": "sJRB4TxqxNrB",
        "colab_type": "code",
        "colab": {
          "base_uri": "https://localhost:8080/",
          "height": 1224
        },
        "outputId": "c6dbd1c0-4759-4aa7-9a1a-6f5cec7fc6be"
      },
      "source": [
        "# Initialize reporting variables\n",
        "cost = 0\n",
        "diff = 1\n",
        "epoch_values = []\n",
        "accuracy_values = []\n",
        "cost_values = []\n",
        "\n",
        "# Training epochs\n",
        "for i in range(numEpochs):\n",
        "    if i > 1 and diff < .0001:\n",
        "        print(\"change in cost %g; convergence.\"%diff)\n",
        "        break\n",
        "    else:\n",
        "        # Run training step\n",
        "        step = sess.run(training_OP, feed_dict={X: trainX, yGold: trainY})\n",
        "        # Report occasional stats\n",
        "        if i % 10 == 0:\n",
        "            # Add epoch to epoch_values\n",
        "            epoch_values.append(i)\n",
        "            # Generate accuracy stats on test data\n",
        "            train_accuracy, newCost = sess.run([accuracy_OP, cost_OP], \n",
        "                                               feed_dict={X: trainX, \n",
        "                                                          yGold: trainY})\n",
        "            # Add accuracy to live graphing variable\n",
        "            accuracy_values.append(train_accuracy)\n",
        "            # Add cost to live graphing variable\n",
        "            cost_values.append(newCost)\n",
        "            # Re-assign values for variables\n",
        "            diff = abs(newCost - cost)\n",
        "            cost = newCost\n",
        "\n",
        "            #generate print statements\n",
        "            print(\"step %d, training accuracy %g, cost %g, change in cost %g\"\n",
        "                  %(i, train_accuracy, newCost, diff))\n",
        "\n",
        "\n",
        "# How well do we perform on held-out test data?\n",
        "print(\"final accuracy on test set: %s\" %str(sess.run(accuracy_OP, \n",
        "                                                     feed_dict={X: testX, \n",
        "                                                                yGold: testY})))"
      ],
      "execution_count": 21,
      "outputs": [
        {
          "output_type": "stream",
          "text": [
            "step 0, training accuracy 0.333333, cost 34.5709, change in cost 34.5709\n",
            "step 10, training accuracy 0.575758, cost 30.0814, change in cost 4.48956\n",
            "step 20, training accuracy 0.646465, cost 28.1435, change in cost 1.93782\n",
            "step 30, training accuracy 0.646465, cost 26.5059, change in cost 1.63766\n",
            "step 40, training accuracy 0.646465, cost 25.1439, change in cost 1.36198\n",
            "step 50, training accuracy 0.646465, cost 24.0181, change in cost 1.12579\n",
            "step 60, training accuracy 0.646465, cost 23.086, change in cost 0.932114\n",
            "step 70, training accuracy 0.646465, cost 22.3094, change in cost 0.776653\n",
            "step 80, training accuracy 0.646465, cost 21.6565, change in cost 0.652826\n",
            "step 90, training accuracy 0.646465, cost 21.1024, change in cost 0.554176\n",
            "step 100, training accuracy 0.656566, cost 20.6271, change in cost 0.475212\n",
            "step 110, training accuracy 0.666667, cost 20.2156, change in cost 0.41156\n",
            "step 120, training accuracy 0.666667, cost 19.8558, change in cost 0.359827\n",
            "step 130, training accuracy 0.666667, cost 19.5383, change in cost 0.317404\n",
            "step 140, training accuracy 0.666667, cost 19.256, change in cost 0.282314\n",
            "step 150, training accuracy 0.666667, cost 19.003, change in cost 0.25304\n",
            "step 160, training accuracy 0.676768, cost 18.7746, change in cost 0.228416\n",
            "step 170, training accuracy 0.686869, cost 18.567, change in cost 0.207535\n",
            "step 180, training accuracy 0.686869, cost 18.3773, change in cost 0.189705\n",
            "step 190, training accuracy 0.707071, cost 18.203, change in cost 0.17436\n",
            "step 200, training accuracy 0.717172, cost 18.0419, change in cost 0.161079\n",
            "step 210, training accuracy 0.737374, cost 17.8924, change in cost 0.149502\n",
            "step 220, training accuracy 0.737374, cost 17.753, change in cost 0.139353\n",
            "step 230, training accuracy 0.747475, cost 17.6226, change in cost 0.130413\n",
            "step 240, training accuracy 0.757576, cost 17.5001, change in cost 0.122486\n",
            "step 250, training accuracy 0.767677, cost 17.3847, change in cost 0.115431\n",
            "step 260, training accuracy 0.787879, cost 17.2756, change in cost 0.109119\n",
            "step 270, training accuracy 0.787879, cost 17.1721, change in cost 0.103447\n",
            "step 280, training accuracy 0.787879, cost 17.0738, change in cost 0.0983295\n",
            "step 290, training accuracy 0.787879, cost 16.9801, change in cost 0.0936871\n",
            "step 300, training accuracy 0.79798, cost 16.8907, change in cost 0.0894737\n",
            "step 310, training accuracy 0.79798, cost 16.805, change in cost 0.0856228\n",
            "step 320, training accuracy 0.79798, cost 16.7229, change in cost 0.0820999\n",
            "step 330, training accuracy 0.79798, cost 16.6441, change in cost 0.0788631\n",
            "step 340, training accuracy 0.808081, cost 16.5682, change in cost 0.0758724\n",
            "step 350, training accuracy 0.828283, cost 16.4951, change in cost 0.0731201\n",
            "step 360, training accuracy 0.828283, cost 16.4245, change in cost 0.0705605\n",
            "step 370, training accuracy 0.838384, cost 16.3563, change in cost 0.0681839\n",
            "step 380, training accuracy 0.838384, cost 16.2904, change in cost 0.0659752\n",
            "step 390, training accuracy 0.848485, cost 16.2265, change in cost 0.0639057\n",
            "step 400, training accuracy 0.848485, cost 16.1645, change in cost 0.0619698\n",
            "step 410, training accuracy 0.848485, cost 16.1043, change in cost 0.0601578\n",
            "step 420, training accuracy 0.848485, cost 16.0459, change in cost 0.0584545\n",
            "step 430, training accuracy 0.848485, cost 15.989, change in cost 0.0568409\n",
            "step 440, training accuracy 0.868687, cost 15.9337, change in cost 0.0553293\n",
            "step 450, training accuracy 0.868687, cost 15.8798, change in cost 0.053896\n",
            "step 460, training accuracy 0.878788, cost 15.8273, change in cost 0.0525389\n",
            "step 470, training accuracy 0.878788, cost 15.776, change in cost 0.0512505\n",
            "step 480, training accuracy 0.878788, cost 15.726, change in cost 0.0500298\n",
            "step 490, training accuracy 0.878788, cost 15.6771, change in cost 0.0488653\n",
            "step 500, training accuracy 0.878788, cost 15.6294, change in cost 0.0477562\n",
            "step 510, training accuracy 0.878788, cost 15.5827, change in cost 0.0467005\n",
            "step 520, training accuracy 0.878788, cost 15.537, change in cost 0.0456896\n",
            "step 530, training accuracy 0.888889, cost 15.4923, change in cost 0.0447226\n",
            "step 540, training accuracy 0.89899, cost 15.4485, change in cost 0.0437965\n",
            "step 550, training accuracy 0.89899, cost 15.4055, change in cost 0.0429106\n",
            "step 560, training accuracy 0.89899, cost 15.3635, change in cost 0.0420589\n",
            "step 570, training accuracy 0.89899, cost 15.3222, change in cost 0.0412397\n",
            "step 580, training accuracy 0.89899, cost 15.2818, change in cost 0.0404549\n",
            "step 590, training accuracy 0.909091, cost 15.2421, change in cost 0.0396957\n",
            "step 600, training accuracy 0.909091, cost 15.2031, change in cost 0.0389671\n",
            "step 610, training accuracy 0.909091, cost 15.1649, change in cost 0.0382624\n",
            "step 620, training accuracy 0.909091, cost 15.1273, change in cost 0.0375843\n",
            "step 630, training accuracy 0.909091, cost 15.0904, change in cost 0.0369272\n",
            "step 640, training accuracy 0.909091, cost 15.0541, change in cost 0.0362949\n",
            "step 650, training accuracy 0.909091, cost 15.0184, change in cost 0.0356808\n",
            "step 660, training accuracy 0.909091, cost 14.9833, change in cost 0.0350857\n",
            "step 670, training accuracy 0.909091, cost 14.9488, change in cost 0.0345144\n",
            "step 680, training accuracy 0.909091, cost 14.9148, change in cost 0.0339537\n",
            "step 690, training accuracy 0.909091, cost 14.8814, change in cost 0.0334139\n",
            "final accuracy on test set: 0.9\n"
          ],
          "name": "stdout"
        }
      ]
    },
    {
      "cell_type": "markdown",
      "metadata": {
        "id": "DRhTDyKFydNo",
        "colab_type": "text"
      },
      "source": [
        "As we observe, as number of steps increases, change in cost decreases and accuracy of the model increases."
      ]
    },
    {
      "cell_type": "code",
      "metadata": {
        "id": "rMJTHpBixyjw",
        "colab_type": "code",
        "colab": {
          "base_uri": "https://localhost:8080/",
          "height": 337
        },
        "outputId": "1193bc4b-ae62-4503-c05a-8b2065a9f7ef"
      },
      "source": [
        "%matplotlib inline\n",
        "import matplotlib.pyplot as plt\n",
        "\n",
        "#plot how cost values changes\n",
        "plt.plot([np.mean(cost_values[i-50:i]) for i in range(len(cost_values))])\n",
        "plt.show()"
      ],
      "execution_count": 23,
      "outputs": [
        {
          "output_type": "stream",
          "text": [
            "/usr/local/lib/python3.6/dist-packages/numpy/core/fromnumeric.py:3118: RuntimeWarning: Mean of empty slice.\n",
            "  out=out, **kwargs)\n",
            "/usr/local/lib/python3.6/dist-packages/numpy/core/_methods.py:85: RuntimeWarning: invalid value encountered in double_scalars\n",
            "  ret = ret.dtype.type(ret / rcount)\n"
          ],
          "name": "stderr"
        },
        {
          "output_type": "display_data",
          "data": {
            "image/png": "[encoded data removed]",
            "text/plain": [
              "<Figure size 432x288 with 1 Axes>"
            ]
          },
          "metadata": {
            "tags": []
          }
        }
      ]
    },
    {
      "cell_type": "code",
      "metadata": {
        "id": "Nc9zXwtdypEn",
        "colab_type": "code",
        "colab": {}
      },
      "source": [
        ""
      ],
      "execution_count": 0,
      "outputs": []
    }
  ]
}
