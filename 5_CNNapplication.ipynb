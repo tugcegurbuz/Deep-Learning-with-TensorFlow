{
  "nbformat": 4,
  "nbformat_minor": 0,
  "metadata": {
    "colab": {
      "name": "DL_TF_Lab5.ipynb",
      "version": "0.3.2",
      "provenance": [],
      "collapsed_sections": [],
      "include_colab_link": true
    },
    "kernelspec": {
      "name": "python3",
      "display_name": "Python 3"
    }
  },
  "cells": [
    {
      "cell_type": "markdown",
      "metadata": {
        "id": "view-in-github",
        "colab_type": "text"
      },
      "source": [
        "<a href=\"https://colab.research.google.com/github/tugcegurbuz/Deep-Learning-with-TensorFlow/blob/master/5_CNNapplication.ipynb\" target=\"_parent\"><img src=\"https://colab.research.google.com/assets/colab-badge.svg\" alt=\"Open In Colab\"/></a>"
      ]
    },
    {
      "cell_type": "markdown",
      "metadata": {
        "id": "JlkzIGrg-rk5",
        "colab_type": "text"
      },
      "source": [
        "**Description:** Convolutional Neural Networks Application\n",
        "\n",
        "Data set: MNIST that has a training set of 60,000 examples, and a test set of 10,000 examples.\n",
        "\n",
        "Aim: Classify hand-written digits\n",
        "\n",
        "Overview: The first Network is a simple Multi-layer Perceptron (MLP) and the second one is a Convolutional Neural Network (CNN).\n",
        "\n",
        "---"
      ]
    },
    {
      "cell_type": "code",
      "metadata": {
        "id": "9ZCoTlU7-SL5",
        "colab_type": "code",
        "outputId": "6be534bf-07de-49ec-f9b9-88e9abd57cd4",
        "colab": {
          "base_uri": "https://localhost:8080/",
          "height": 34
        }
      },
      "source": [
        "import tensorflow as tf\n",
        "tf.__version__"
      ],
      "execution_count": 37,
      "outputs": [
        {
          "output_type": "execute_result",
          "data": {
            "text/plain": [
              "'1.14.0-rc1'"
            ]
          },
          "metadata": {
            "tags": []
          },
          "execution_count": 37
        }
      ]
    },
    {
      "cell_type": "code",
      "metadata": {
        "id": "a2jk0PdhAZTo",
        "colab_type": "code",
        "outputId": "e8c8a71a-7c5f-4250-9de6-9ee1a5b14c7e",
        "colab": {
          "base_uri": "https://localhost:8080/",
          "height": 85
        }
      },
      "source": [
        "from tensorflow.examples.tutorials.mnist import input_data\n",
        "mnist = input_data.read_data_sets(\"MNIST_data/\", one_hot=True)\n",
        "#Explanation of one_hot = True is below"
      ],
      "execution_count": 38,
      "outputs": [
        {
          "output_type": "stream",
          "text": [
            "Extracting MNIST_data/train-images-idx3-ubyte.gz\n",
            "Extracting MNIST_data/train-labels-idx1-ubyte.gz\n",
            "Extracting MNIST_data/t10k-images-idx3-ubyte.gz\n",
            "Extracting MNIST_data/t10k-labels-idx1-ubyte.gz\n"
          ],
          "name": "stdout"
        }
      ]
    },
    {
      "cell_type": "markdown",
      "metadata": {
        "id": "ttXFg52FBaUa",
        "colab_type": "text"
      },
      "source": [
        "The  *one-hot = True* argument only means that, in contrast to Binary representation, the labels will be presented in a way that to represent a number N, the $N^{th}$ bit is 1 while the the other bits are 0. For example, five and zero in a binary code would be:\n",
        "\n",
        "<pre>\n",
        "Number representation:    0\n",
        "Binary encoding:        [2^5]  [2^4]   [2^3]   [2^2]   [2^1]   [2^0]  \n",
        "Array/vector:             0      0       0       0       0       0 \n",
        "\n",
        "Number representation:    5\n",
        "Binary encoding:        [2^5]  [2^4]   [2^3]   [2^2]   [2^1]   [2^0]  \n",
        "Array/vector:             0      0       0       1       0       1  \n",
        "</pre>\n",
        "\n",
        "Using a different notation, the same digits using one-hot vector representation can be show as: \n",
        "<pre>\n",
        "Number representation:    0\n",
        "One-hot encoding:        [5]   [4]    [3]    [2]    [1]   [0]  \n",
        "Array/vector:             0     0      0      0      0     1   \n",
        "\n",
        "Number representation:    5\n",
        "One-hot encoding:        [5]   [4]    [3]    [2]    [1]    [0]  \n",
        "Array/vector:             1     0      0      0      0      0   \n",
        "</pre>"
      ]
    },
    {
      "cell_type": "markdown",
      "metadata": {
        "id": "OADpJs8NPBJC",
        "colab_type": "text"
      },
      "source": [
        "## 1) Using Simple Neural Network Model"
      ]
    },
    {
      "cell_type": "code",
      "metadata": {
        "id": "jW5ux1XEA0Fa",
        "colab_type": "code",
        "outputId": "67637fbc-aa52-46a7-b24a-af33f6dbcfcd",
        "colab": {
          "base_uri": "https://localhost:8080/",
          "height": 71
        }
      },
      "source": [
        "#Create session\n",
        "sess = tf.InteractiveSession()\n",
        "\n",
        "#Instead of regular sessions in TF (which first sets up, then executes the\n",
        "#session, then evaluates the tensors and then runs the operations), we can use\n",
        "#interactive sessions in TF where you create your coding and run on the fly."
      ],
      "execution_count": 39,
      "outputs": [
        {
          "output_type": "stream",
          "text": [
            "/usr/local/lib/python3.6/dist-packages/tensorflow/python/client/session.py:1735: UserWarning: An interactive session is already active. This can cause out-of-memory errors in some cases. You must explicitly call `InteractiveSession.close()` to release resources held by the other session(s).\n",
            "  warnings.warn('An interactive session is already active. This can '\n"
          ],
          "name": "stderr"
        }
      ]
    },
    {
      "cell_type": "markdown",
      "metadata": {
        "id": "akPRagcdEY7a",
        "colab_type": "text"
      },
      "source": [
        "It is best practice to define placeholders before defining the variables.\n",
        "\n",
        "Now, we will define placeholders for input (Xs) and output (Ys).\n",
        "\n",
        "Shapes:\n",
        "\n",
        "\n",
        "*   X: First dimension is None because it can be any batch size. Second dimension is pixel size which is 28x28, 784 pixels. \n",
        "*   Y: First dimension is None because it can be any batch size. Second dimension is target size which is (0, 1, 2, 3 4, 5, 6, 7, 8, 9), 10 digit numbers. \n",
        "\n"
      ]
    },
    {
      "cell_type": "code",
      "metadata": {
        "id": "NT84H_uXDfao",
        "colab_type": "code",
        "colab": {}
      },
      "source": [
        "#Define Placeholders\n",
        "x  = tf.placeholder(tf.float32, shape=[None, 784])\n",
        "y_ = tf.placeholder(tf.float32, shape=[None, 10])"
      ],
      "execution_count": 0,
      "outputs": []
    },
    {
      "cell_type": "code",
      "metadata": {
        "id": "b44lsrZAFb3W",
        "colab_type": "code",
        "colab": {}
      },
      "source": [
        "#Create weights and biases\n",
        "\n",
        "# Weight tensor\n",
        "W = tf.Variable(tf.zeros([784, 10],tf.float32))\n",
        "\n",
        "# Bias tensor\n",
        "b = tf.Variable(tf.zeros([10],tf.float32))"
      ],
      "execution_count": 0,
      "outputs": []
    },
    {
      "cell_type": "code",
      "metadata": {
        "id": "nXTMcz4JHZpy",
        "colab_type": "code",
        "colab": {}
      },
      "source": [
        "#Initialize all variables\n",
        "\n",
        "#Note: Since we are using interactive session, we need to use sess.run()\n",
        "sess.run(tf.global_variables_initializer())"
      ],
      "execution_count": 0,
      "outputs": []
    },
    {
      "cell_type": "markdown",
      "metadata": {
        "id": "p38GIUMkIJie",
        "colab_type": "text"
      },
      "source": [
        "Our operation will be multiplying input matrix with weights matrix and adding them biases."
      ]
    },
    {
      "cell_type": "markdown",
      "metadata": {
        "id": "hYCHRKaAJ4MW",
        "colab_type": "text"
      },
      "source": [
        "**Softmax** is an activation function that is normally used in classification problems. It generate the probabilities for the output. For example, our model will not be 100% sure that one digit is the number nine, instead, the answer will be a distribution of probabilities where, if the model is right, the nine number will have a larger probability than the other other digits.\n",
        "\n",
        "For comparison, below is the one-hot vector for a nine digit label:\n",
        "\n",
        "0 --> 0  \n",
        "1 --> 0 \n",
        "\n",
        "2 --> 0\n",
        "\n",
        "3 --> 0\n",
        "\n",
        "4 --> 0\n",
        "\n",
        "5 --> 0\n",
        "\n",
        "6 --> 0\n",
        "\n",
        "7 --> 0\n",
        "\n",
        "8 --> 0\n",
        "\n",
        "9 --> 1\n",
        "\n",
        "A machine does not have all this certainty, so we want to know what is the best guess, but we also want to understand how sure it was and what was the second better option. Below is an example of a hypothetical distribution for a nine digit:\n",
        "\n",
        "0 -->0.01  \n",
        "1 -->0.02  \n",
        "2 -->0.03  \n",
        "3 -->0.02  \n",
        "4 -->0.12  \n",
        "5 -->0.01  \n",
        "6 -->0.03\n",
        "\n",
        "7 -->0.06\n",
        "\n",
        "8 -->0.1\n",
        "\n",
        "9 -->0.6  \n",
        "\n",
        " \n",
        "**Note:Logistic function output is used for the classification between two target classes 0/1. Softmax function is generalized type of logistic function. That is, Softmax can output a multiclass categorical probability distribution.**\n"
      ]
    },
    {
      "cell_type": "code",
      "metadata": {
        "id": "1PBERIglIV8q",
        "colab_type": "code",
        "colab": {}
      },
      "source": [
        "#Define the operation\n",
        "y = tf.nn.softmax(tf.matmul(x, W) + b)"
      ],
      "execution_count": 0,
      "outputs": []
    },
    {
      "cell_type": "code",
      "metadata": {
        "id": "s2mqr_h8Lu99",
        "colab_type": "code",
        "colab": {}
      },
      "source": [
        "#Minimize the difference between right answers and estimated outputs by the NN\n",
        "\n",
        "#Cost function\n",
        "cross_entropy = tf.reduce_mean(-tf.reduce_sum(y_ * tf.log(y), \n",
        "                                              reduction_indices=[1]))"
      ],
      "execution_count": 0,
      "outputs": []
    },
    {
      "cell_type": "code",
      "metadata": {
        "id": "-uCwxDa0Oc-r",
        "colab_type": "code",
        "colab": {}
      },
      "source": [
        "#Optimize your cost function with gradient descent\n",
        "\n",
        "train_step = tf.train.GradientDescentOptimizer(0.5).minimize(cross_entropy)"
      ],
      "execution_count": 0,
      "outputs": []
    },
    {
      "cell_type": "code",
      "metadata": {
        "id": "6czv04hPOsst",
        "colab_type": "code",
        "colab": {}
      },
      "source": [
        "#Train batches\n",
        "\n",
        "#Load 50 training examples for each training iteration   \n",
        "for i in range(1000):\n",
        "    batch = mnist.train.next_batch(50)\n",
        "    train_step.run(feed_dict={x: batch[0], y_: batch[1]})"
      ],
      "execution_count": 0,
      "outputs": []
    },
    {
      "cell_type": "code",
      "metadata": {
        "id": "BE-YXcoPPZMc",
        "colab_type": "code",
        "outputId": "7740a776-fe13-409a-ebfb-8a54a534f8df",
        "colab": {
          "base_uri": "https://localhost:8080/",
          "height": 34
        }
      },
      "source": [
        "#Test\n",
        "\n",
        "correct_prediction = tf.equal(tf.argmax(y, 1), tf.argmax(y_, 1))\n",
        "\n",
        "accuracy = tf.reduce_mean(tf.cast(correct_prediction, tf.float32))\n",
        "\n",
        "acc = accuracy.eval(feed_dict={x: mnist.test.images, y_: mnist.test.labels}) * 100\n",
        "\n",
        "print(\"The final accuracy for the simple NN model is: {} % \".format(acc) )"
      ],
      "execution_count": 47,
      "outputs": [
        {
          "output_type": "stream",
          "text": [
            "The final accuracy for the simple NN model is: 90.21000266075134 % \n"
          ],
          "name": "stdout"
        }
      ]
    },
    {
      "cell_type": "code",
      "metadata": {
        "id": "HFvQ2PwJPoIH",
        "colab_type": "code",
        "colab": {}
      },
      "source": [
        "#Finish the session\n",
        "\n",
        "sess.close()"
      ],
      "execution_count": 0,
      "outputs": []
    },
    {
      "cell_type": "markdown",
      "metadata": {
        "id": "OIE_O1LYQEuF",
        "colab_type": "text"
      },
      "source": [
        "## 2) Using Deep Learning Model"
      ]
    },
    {
      "cell_type": "markdown",
      "metadata": {
        "id": "OwqrYCfMQz2c",
        "colab_type": "text"
      },
      "source": [
        "Architecture of our network is:\n",
        "\n",
        "  * Form the Model\n",
        "\n",
        "    - (Input) -> [batch_size, 28, 28, 1]  >> Apply 32 filter of [5x5]\n",
        "    - (Convolutional layer 1)  -> [batch_size, 28, 28, 32]\n",
        "      - (ReLU 1)  -> [?, 28, 28, 32]\n",
        "      - (Max pooling 1) -> [?, 14, 14, 32]\n",
        "    - (Convolutional layer 2)  -> [?, 14, 14, 64] \n",
        "      - (ReLU 2)  -> [?, 14, 14, 64] \n",
        "      - (Max pooling 2)  -> [?, 7, 7, 64] \n",
        "    - [fully connected layer 3] -> [1x1024]\n",
        "      - [ReLU 3]  -> [1x1024]\n",
        "    - [Drop out]  -> [1x1024]\n",
        "    - [fully connected layer 4] -> [1x10]\n",
        "\n",
        "  * Training\n",
        "\n",
        "  * Testing"
      ]
    },
    {
      "cell_type": "code",
      "metadata": {
        "id": "eThy9v5YPuD7",
        "colab_type": "code",
        "outputId": "0210033e-6123-4f59-8be1-c0872f0854d4",
        "colab": {
          "base_uri": "https://localhost:8080/",
          "height": 71
        }
      },
      "source": [
        "#Close previous sessions\n",
        "sess.close()\n",
        "\n",
        "#Start interactive session\n",
        "sess = tf.InteractiveSession()"
      ],
      "execution_count": 49,
      "outputs": [
        {
          "output_type": "stream",
          "text": [
            "/usr/local/lib/python3.6/dist-packages/tensorflow/python/client/session.py:1735: UserWarning: An interactive session is already active. This can cause out-of-memory errors in some cases. You must explicitly call `InteractiveSession.close()` to release resources held by the other session(s).\n",
            "  warnings.warn('An interactive session is already active. This can '\n"
          ],
          "name": "stderr"
        }
      ]
    },
    {
      "cell_type": "code",
      "metadata": {
        "id": "p66-I-D0Q50T",
        "colab_type": "code",
        "colab": {}
      },
      "source": [
        "#Create general parameters for the model\n",
        "\n",
        "width = 28 # width of the image in pixels \n",
        "height = 28 # height of the image in pixels\n",
        "flat = width * height # number of pixels in one image \n",
        "class_output = 10 # number of possible classifications for the problem"
      ],
      "execution_count": 0,
      "outputs": []
    },
    {
      "cell_type": "code",
      "metadata": {
        "id": "DpSQkLyFRJpZ",
        "colab_type": "code",
        "colab": {}
      },
      "source": [
        "#Define placeholders\n",
        "x  = tf.placeholder(tf.float32, shape=[None, flat])\n",
        "y_ = tf.placeholder(tf.float32, shape=[None, class_output])"
      ],
      "execution_count": 0,
      "outputs": []
    },
    {
      "cell_type": "code",
      "metadata": {
        "id": "n7IdwAJERPbV",
        "colab_type": "code",
        "colab": {
          "base_uri": "https://localhost:8080/",
          "height": 34
        },
        "outputId": "1aab1cdb-baa4-4621-c416-437548f34ea3"
      },
      "source": [
        "#Convert images of dataset into tensors\n",
        "\n",
        "#Our images are 28x28 pixels, 1 channel (grayscale).\n",
        "#Second input of the function is defined: [Batch number, width, height, image channels]\n",
        "#Since batchnumber of the image can be any size, we set it as -1.\n",
        "\n",
        "x_image= tf.reshape(x, [-1, 28, 28, 1])\n",
        "\n",
        "x_image"
      ],
      "execution_count": 52,
      "outputs": [
        {
          "output_type": "execute_result",
          "data": {
            "text/plain": [
              "<tf.Tensor 'Reshape_2:0' shape=(?, 28, 28, 1) dtype=float32>"
            ]
          },
          "metadata": {
            "tags": []
          },
          "execution_count": 52
        }
      ]
    },
    {
      "cell_type": "markdown",
      "metadata": {
        "id": "ZSbRqLvdSpj3",
        "colab_type": "text"
      },
      "source": [
        "##Form The Model"
      ]
    },
    {
      "cell_type": "markdown",
      "metadata": {
        "id": "ukWA4pIZDOyK",
        "colab_type": "text"
      },
      "source": [
        "###Convolutional Layer 1"
      ]
    },
    {
      "cell_type": "markdown",
      "metadata": {
        "id": "bYApwS3DE8TG",
        "colab_type": "text"
      },
      "source": [
        "We need 32 feature maps here (32 different filters are applied on each image). \n",
        "\n",
        "So, the output of this layer will be 28x28x32"
      ]
    },
    {
      "cell_type": "code",
      "metadata": {
        "id": "jQhO2EXNCRDq",
        "colab_type": "code",
        "colab": {}
      },
      "source": [
        "#Define kernel weights and biases\n",
        "\n",
        "#Kernel: 5x5, 1 channel (grayscale)\n",
        "#In this step, we create a filter / kernel tensor of shape \n",
        "#[filter_height, filter_width, in_channels, out_channels]\n",
        "\n",
        "W_conv1 = tf.Variable(tf.truncated_normal([5, 5, 1, 32], stddev=0.1))\n",
        "\n",
        "b_conv1 = tf.Variable(tf.constant(0.1, shape=[32])) #need 32 biases for 32 outputs\n"
      ],
      "execution_count": 0,
      "outputs": []
    },
    {
      "cell_type": "markdown",
      "metadata": {
        "id": "-PlpOkaJGOui",
        "colab_type": "text"
      },
      "source": [
        "**Inputs:**\n",
        "\n",
        "* tensor of shape [batch, in_height, in_width, in_channels]. x of shape [batch_size,28 ,28, 1]\n",
        "* a filter / kernel tensor of shape [filter_height, filter_width, in_channels, out_channels]. W is of size [5, 5, 1, 32]\n",
        "* stride which is [1, 1, 1, 1]. The convolutional layer, slides the \"kernel window\" across the input tensor. As the input tensor has 4 dimensions: [batch, height, width, channels], then the convolution operates on a 2D window on the height and width dimensions. strides determines how much the window shifts by in each of the dimensions. As the first and last dimensions are related to batch and channels, we set the stride to 1. But for second and third dimension, we could set other values, e.g. [1, 2, 2, 1]\n",
        "\n",
        "\n",
        "**Process:**\n",
        "\n",
        "* Change the filter to a 2-D matrix with shape [5 * 5 * 1,32]\n",
        "* Extracts image patches from the input tensor to form a virtual tensor of shape [batch, 28, 28, 5 * 5 * 1].\n",
        "* For each batch, right-multiplies the filter matrix and the image vector.\n",
        "\n",
        "**Output:**\n",
        "\n",
        "* A Tensor (a 2-D convolution) of size tf.Tensor 'add_7:0' shape=(?, 28, 28, 32)\n",
        "* Notice: the output of the first convolution layer is 32 [28x28] images. Here 32 is considered as volume/depth of the output image."
      ]
    },
    {
      "cell_type": "code",
      "metadata": {
        "id": "GGCJHED9FV0U",
        "colab_type": "code",
        "colab": {
          "base_uri": "https://localhost:8080/",
          "height": 34
        },
        "outputId": "ed3e0ca6-2648-489c-fcca-77fbc35eb3f9"
      },
      "source": [
        "#Convolve with weight tensor and add biases\n",
        "convolve1= tf.nn.conv2d(x_image, W_conv1, strides=[1, 1, 1, 1], padding='SAME') + b_conv1\n",
        "\n",
        "convolve1"
      ],
      "execution_count": 54,
      "outputs": [
        {
          "output_type": "execute_result",
          "data": {
            "text/plain": [
              "<tf.Tensor 'add_7:0' shape=(?, 28, 28, 32) dtype=float32>"
            ]
          },
          "metadata": {
            "tags": []
          },
          "execution_count": 54
        }
      ]
    },
    {
      "cell_type": "markdown",
      "metadata": {
        "id": "ej2WYQSbHUcw",
        "colab_type": "text"
      },
      "source": [
        "In this step, we just go through all outputs convolution layer, convolve1, and wherever a negative number occurs, we swap it out for a 0. It is called ReLU activation Function."
      ]
    },
    {
      "cell_type": "code",
      "metadata": {
        "id": "jhDY8H_7HFV7",
        "colab_type": "code",
        "colab": {
          "base_uri": "https://localhost:8080/",
          "height": 34
        },
        "outputId": "1a0fa834-18d0-43cf-aa37-68d5ce92cc59"
      },
      "source": [
        "#Apply ReLu Activation Function\n",
        "h_conv1 = tf.nn.relu(convolve1)\n",
        "\n",
        "h_conv1"
      ],
      "execution_count": 55,
      "outputs": [
        {
          "output_type": "execute_result",
          "data": {
            "text/plain": [
              "<tf.Tensor 'Relu_5:0' shape=(?, 28, 28, 32) dtype=float32>"
            ]
          },
          "metadata": {
            "tags": []
          },
          "execution_count": 55
        }
      ]
    },
    {
      "cell_type": "markdown",
      "metadata": {
        "id": "hDmoW7vFILCq",
        "colab_type": "text"
      },
      "source": [
        "**Max pooling** is a form of non-linear down-sampling. It partitions the input image into a set of rectangles and, and then find the maximum value for that region.\n",
        "\n",
        "Here, we will use 2x2 window matrix\n",
        "\n",
        "**Strides:** dictates the sliding behaviour of the kernel. In this case it will move 2 pixels everytime, thus not overlapping. The input is a matrix of size 28x28x32, and the output would be a matrix of size 14x14x32."
      ]
    },
    {
      "cell_type": "code",
      "metadata": {
        "id": "-BnxapQ_HaUZ",
        "colab_type": "code",
        "colab": {
          "base_uri": "https://localhost:8080/",
          "height": 34
        },
        "outputId": "fedbbc27-a7b2-4bef-9ded-32090c6b9b88"
      },
      "source": [
        "#Apply max pooling\n",
        "conv1 = tf.nn.max_pool(h_conv1, ksize=[1, 2, 2, 1], strides=[1, 2, 2, 1], padding='SAME') #max_pool_2x2\n",
        "conv1"
      ],
      "execution_count": 56,
      "outputs": [
        {
          "output_type": "execute_result",
          "data": {
            "text/plain": [
              "<tf.Tensor 'MaxPool_2:0' shape=(?, 14, 14, 32) dtype=float32>"
            ]
          },
          "metadata": {
            "tags": []
          },
          "execution_count": 56
        }
      ]
    },
    {
      "cell_type": "markdown",
      "metadata": {
        "id": "qDQIs2-WI6sL",
        "colab_type": "text"
      },
      "source": [
        "###Convolutional Layer 2"
      ]
    },
    {
      "cell_type": "markdown",
      "metadata": {
        "id": "1mI2fZISJYNm",
        "colab_type": "text"
      },
      "source": [
        "We apply the convolution again in this layer. Lets look at the second layer kernel:\n",
        "\n",
        "* Filter/kernel: 5x5 (25 pixels)\n",
        "* Input channels: 32 (from the 1st Conv layer, we had 32 feature maps)\n",
        "* 64 output feature maps\n",
        "\n",
        "**Notice:** here, the input image is [14x14x32], the filter is [5x5x32], we use 64 filters of size [5x5x32], and the output of the convolutional layer would be 64 convolved image, [14x14x64].\n",
        "\n",
        "**Notice:** the convolution result of applying a filter of size [5x5x32] on image of size [14x14x32] is an image of size [14x14x1], that is, the convolution is functioning on volume."
      ]
    },
    {
      "cell_type": "code",
      "metadata": {
        "id": "TLxopJeqIsZA",
        "colab_type": "code",
        "colab": {}
      },
      "source": [
        "#Define weights and biases\n",
        "\n",
        "W_conv2 = tf.Variable(tf.truncated_normal([5, 5, 32, 64], stddev=0.1))\n",
        "b_conv2 = tf.Variable(tf.constant(0.1, shape=[64]))#need 64 biases for 64 outputs"
      ],
      "execution_count": 0,
      "outputs": []
    },
    {
      "cell_type": "code",
      "metadata": {
        "id": "MyBZRoYoJx5V",
        "colab_type": "code",
        "colab": {
          "base_uri": "https://localhost:8080/",
          "height": 34
        },
        "outputId": "3bdf7889-71ca-40a1-a321-2fa17c34e76a"
      },
      "source": [
        "#Convolve image with weight tensor and add biases\n",
        "convolve2= tf.nn.conv2d(conv1, W_conv2, strides=[1, 1, 1, 1], padding='SAME') + b_conv2\n",
        "\n",
        "convolve2"
      ],
      "execution_count": 58,
      "outputs": [
        {
          "output_type": "execute_result",
          "data": {
            "text/plain": [
              "<tf.Tensor 'add_8:0' shape=(?, 14, 14, 64) dtype=float32>"
            ]
          },
          "metadata": {
            "tags": []
          },
          "execution_count": 58
        }
      ]
    },
    {
      "cell_type": "code",
      "metadata": {
        "id": "qEdFvWQ0J3jP",
        "colab_type": "code",
        "colab": {
          "base_uri": "https://localhost:8080/",
          "height": 34
        },
        "outputId": "8eeedf69-ffa7-431b-d0bf-0b4cfb75cafa"
      },
      "source": [
        "#Apply ReLu activation function\n",
        "h_conv2 = tf.nn.relu(convolve2)\n",
        "\n",
        "h_conv2"
      ],
      "execution_count": 59,
      "outputs": [
        {
          "output_type": "execute_result",
          "data": {
            "text/plain": [
              "<tf.Tensor 'Relu_6:0' shape=(?, 14, 14, 64) dtype=float32>"
            ]
          },
          "metadata": {
            "tags": []
          },
          "execution_count": 59
        }
      ]
    },
    {
      "cell_type": "code",
      "metadata": {
        "id": "lzqftgpnJ_3z",
        "colab_type": "code",
        "colab": {
          "base_uri": "https://localhost:8080/",
          "height": 34
        },
        "outputId": "64efe8f0-40a9-471b-8393-4cbecb3a1b3d"
      },
      "source": [
        "#Apply max pooling\n",
        "conv2 = tf.nn.max_pool(h_conv2, ksize=[1, 2, 2, 1], strides=[1, 2, 2, 1], padding='SAME') #max_pool_2x2\n",
        "\n",
        "conv2"
      ],
      "execution_count": 60,
      "outputs": [
        {
          "output_type": "execute_result",
          "data": {
            "text/plain": [
              "<tf.Tensor 'MaxPool_3:0' shape=(?, 7, 7, 64) dtype=float32>"
            ]
          },
          "metadata": {
            "tags": []
          },
          "execution_count": 60
        }
      ]
    },
    {
      "cell_type": "markdown",
      "metadata": {
        "id": "a5_2kh_CKVWv",
        "colab_type": "text"
      },
      "source": [
        "### Fully Connected Layer"
      ]
    },
    {
      "cell_type": "markdown",
      "metadata": {
        "id": "ewfgVvRMKVKS",
        "colab_type": "text"
      },
      "source": [
        "Now, we need a fully connected latyer to use Softmax and create probabilities at the end.\n",
        "\n",
        "It takes high-level filtered iamges from previous layer and convert them into a flat array.\n",
        "\n",
        "So, it will take 64 matrices (7x7) and converteach them into 49x1 arrays. Then all 64 arrays will be connected and make an array of the size 3136x1.\n",
        "\n",
        "Then,  we will connect it into another layes of size 1024x1. So, the weight between these 2 layers will be 3136x1024"
      ]
    },
    {
      "cell_type": "code",
      "metadata": {
        "id": "noDxair0KIc3",
        "colab_type": "code",
        "colab": {
          "base_uri": "https://localhost:8080/",
          "height": 34
        },
        "outputId": "420344e0-d6e2-4ee4-d3f1-6cc0f55ef431"
      },
      "source": [
        "#Flatten second layer\n",
        "layer2_matrix = tf.reshape(conv2, [-1, 7 * 7 * 64])\n",
        "\n",
        "layer2_matrix"
      ],
      "execution_count": 61,
      "outputs": [
        {
          "output_type": "execute_result",
          "data": {
            "text/plain": [
              "<tf.Tensor 'Reshape_3:0' shape=(?, 3136) dtype=float32>"
            ]
          },
          "metadata": {
            "tags": []
          },
          "execution_count": 61
        }
      ]
    },
    {
      "cell_type": "code",
      "metadata": {
        "id": "N2xVrJeCLnwt",
        "colab_type": "code",
        "colab": {}
      },
      "source": [
        "# Define weights and biases\n",
        "\n",
        "W_fc1 = tf.Variable(tf.truncated_normal([7 * 7 * 64, 1024], stddev=0.1)) \n",
        "#last layer (7x7) is multiplied by the number of feature maps (64)\n",
        "#and creates 1024 outputs for softmax layer\n",
        "\n",
        "b_fc1 = tf.Variable(tf.constant(0.1, shape=[1024])) # need 1024 biases for 1024 outputs"
      ],
      "execution_count": 0,
      "outputs": []
    },
    {
      "cell_type": "code",
      "metadata": {
        "id": "PXGewULbPSwz",
        "colab_type": "code",
        "colab": {}
      },
      "source": [
        "#Multiply weights and layer2 matrix and add biases\n",
        "fcl = tf.matmul(layer2_matrix, W_fc1) + b_fc1"
      ],
      "execution_count": 0,
      "outputs": []
    },
    {
      "cell_type": "code",
      "metadata": {
        "id": "EFGfCkjMPyv6",
        "colab_type": "code",
        "colab": {
          "base_uri": "https://localhost:8080/",
          "height": 34
        },
        "outputId": "49221fd5-c397-479e-ae22-ad66c266b094"
      },
      "source": [
        "#Apply ReLu activation function\n",
        "h_fc1 = tf.nn.relu(fcl)\n",
        "\n",
        "h_fc1"
      ],
      "execution_count": 64,
      "outputs": [
        {
          "output_type": "execute_result",
          "data": {
            "text/plain": [
              "<tf.Tensor 'Relu_7:0' shape=(?, 1024) dtype=float32>"
            ]
          },
          "metadata": {
            "tags": []
          },
          "execution_count": 64
        }
      ]
    },
    {
      "cell_type": "markdown",
      "metadata": {
        "id": "_jZaVCNRP_z2",
        "colab_type": "text"
      },
      "source": [
        "###Drop-out Layer\n",
        "\n",
        "This is the optional layer for reducing the overfitting. Here, networks forget some features. \n",
        "\n",
        "At each training step in a mini-batch, some units get switched off randomly so that it will not interact with the network. That is, if weights cannot be updated, nor affect the learning of the other network nodes. This can be very useful for very large neural networks to prevent overfitting."
      ]
    },
    {
      "cell_type": "code",
      "metadata": {
        "id": "viPeyAntP4dY",
        "colab_type": "code",
        "colab": {
          "base_uri": "https://localhost:8080/",
          "height": 34
        },
        "outputId": "350678f6-107d-4be4-9bb4-d82f5e24aad9"
      },
      "source": [
        "#Define a placeholder\n",
        "keep_prob = tf.placeholder(tf.float32)\n",
        "\n",
        "#Drop\n",
        "layer_drop = tf.nn.dropout(h_fc1, keep_prob)\n",
        "\n",
        "\n",
        "layer_drop"
      ],
      "execution_count": 75,
      "outputs": [
        {
          "output_type": "execute_result",
          "data": {
            "text/plain": [
              "<tf.Tensor 'dropout_3/mul_1:0' shape=(?, 1024) dtype=float32>"
            ]
          },
          "metadata": {
            "tags": []
          },
          "execution_count": 75
        }
      ]
    },
    {
      "cell_type": "markdown",
      "metadata": {
        "id": "Apu454ACQzJ5",
        "colab_type": "text"
      },
      "source": [
        "### Read-out Layer (Softmax Layer)\n",
        "\n",
        "It is a kind of fully connected layer.\n",
        "\n",
        "It is the last layer of our CNN. It takes high-level filtered images and translate them into probabilities by using Softmax. \n",
        "\n",
        "Input channels: 1024 (neurons from 3rd layer)\n",
        "\n",
        "Output features: 10 digits"
      ]
    },
    {
      "cell_type": "code",
      "metadata": {
        "id": "2BkgynS0QlsY",
        "colab_type": "code",
        "colab": {}
      },
      "source": [
        "#Define weights and biases\n",
        "\n",
        "W_fc2 = tf.Variable(tf.truncated_normal([1024, 10], stddev=0.1)) #1024 neurons\n",
        "b_fc2 = tf.Variable(tf.constant(0.1, shape=[10])) # 10 possibilities for digits"
      ],
      "execution_count": 0,
      "outputs": []
    },
    {
      "cell_type": "code",
      "metadata": {
        "id": "aQpoO0KWRqk3",
        "colab_type": "code",
        "colab": {}
      },
      "source": [
        "#Multiply weights with dropped layer and add biases\n",
        "\n",
        "fc=tf.matmul(layer_drop, W_fc2) + b_fc2"
      ],
      "execution_count": 0,
      "outputs": []
    },
    {
      "cell_type": "code",
      "metadata": {
        "id": "bZqW4-KqRzHk",
        "colab_type": "code",
        "colab": {
          "base_uri": "https://localhost:8080/",
          "height": 34
        },
        "outputId": "02f8f63e-d450-4946-cfbf-ce50e4d838f2"
      },
      "source": [
        "#Apply softmax\n",
        "y_CNN= tf.nn.softmax(fc)\n",
        "\n",
        "y_CNN\n",
        "#y_CNN is the tensor of probabilities"
      ],
      "execution_count": 78,
      "outputs": [
        {
          "output_type": "execute_result",
          "data": {
            "text/plain": [
              "<tf.Tensor 'Softmax_4:0' shape=(?, 10) dtype=float32>"
            ]
          },
          "metadata": {
            "tags": []
          },
          "execution_count": 78
        }
      ]
    },
    {
      "cell_type": "markdown",
      "metadata": {
        "id": "OAWdq_zeSNf3",
        "colab_type": "text"
      },
      "source": [
        "##Train The Model"
      ]
    },
    {
      "cell_type": "code",
      "metadata": {
        "id": "ERsxSZulR312",
        "colab_type": "code",
        "colab": {}
      },
      "source": [
        "#Define loss function\n",
        "cross_entropy = tf.reduce_mean(-tf.reduce_sum(y_ * tf.log(y_CNN), reduction_indices=[1]))"
      ],
      "execution_count": 0,
      "outputs": []
    },
    {
      "cell_type": "code",
      "metadata": {
        "id": "rAMxesjwTKv6",
        "colab_type": "code",
        "colab": {}
      },
      "source": [
        "#Define optimizer\n",
        "train_step = tf.train.AdamOptimizer(1e-4).minimize(cross_entropy)"
      ],
      "execution_count": 0,
      "outputs": []
    },
    {
      "cell_type": "code",
      "metadata": {
        "id": "Vp6oHJuXTcJ3",
        "colab_type": "code",
        "colab": {}
      },
      "source": [
        "#Define how many of the cases in a mini-batch has been classified correctly\n",
        "correct_prediction = tf.equal(tf.argmax(y_CNN, 1), tf.argmax(y_, 1))"
      ],
      "execution_count": 0,
      "outputs": []
    },
    {
      "cell_type": "code",
      "metadata": {
        "id": "8Do1KaYgTuL5",
        "colab_type": "code",
        "colab": {
          "base_uri": "https://localhost:8080/",
          "height": 34
        },
        "outputId": "82035f39-fa53-4347-84ea-57d3a7b0ddef"
      },
      "source": [
        "#Define accuracy (average correct cases in percentage)\n",
        "accuracy = tf.reduce_mean(tf.cast(correct_prediction, tf.float32))\n",
        "\n",
        "accuracy"
      ],
      "execution_count": 82,
      "outputs": [
        {
          "output_type": "execute_result",
          "data": {
            "text/plain": [
              "<tf.Tensor 'Mean_8:0' shape=() dtype=float32>"
            ]
          },
          "metadata": {
            "tags": []
          },
          "execution_count": 82
        }
      ]
    },
    {
      "cell_type": "code",
      "metadata": {
        "id": "apoDMbmUT10P",
        "colab_type": "code",
        "colab": {}
      },
      "source": [
        "#Run the session\n",
        "sess.run(tf.global_variables_initializer())"
      ],
      "execution_count": 0,
      "outputs": []
    },
    {
      "cell_type": "code",
      "metadata": {
        "id": "T5oLm0fjT8ri",
        "colab_type": "code",
        "colab": {
          "base_uri": "https://localhost:8080/",
          "height": 204
        },
        "outputId": "98e368f0-3c26-45fd-8c0f-ba092711c0a1"
      },
      "source": [
        "#Training\n",
        "for i in range(1100):\n",
        "    batch = mnist.train.next_batch(50)\n",
        "    if i%100 == 0:\n",
        "        train_accuracy = accuracy.eval(feed_dict={x:batch[0], y_: batch[1], keep_prob: 1.0})\n",
        "        print(\"step %d, training accuracy %g\"%(i, float(train_accuracy)))\n",
        "    train_step.run(feed_dict={x: batch[0], y_: batch[1], keep_prob: 0.5})"
      ],
      "execution_count": 84,
      "outputs": [
        {
          "output_type": "stream",
          "text": [
            "step 0, training accuracy 0.06\n",
            "step 100, training accuracy 0.8\n",
            "step 200, training accuracy 0.92\n",
            "step 300, training accuracy 0.96\n",
            "step 400, training accuracy 0.96\n",
            "step 500, training accuracy 0.94\n",
            "step 600, training accuracy 0.94\n",
            "step 700, training accuracy 0.96\n",
            "step 800, training accuracy 0.94\n",
            "step 900, training accuracy 0.94\n",
            "step 1000, training accuracy 0.94\n"
          ],
          "name": "stdout"
        }
      ]
    },
    {
      "cell_type": "markdown",
      "metadata": {
        "id": "m40TBvLuY41S",
        "colab_type": "text"
      },
      "source": [
        "##Test The Model"
      ]
    },
    {
      "cell_type": "code",
      "metadata": {
        "id": "5iKUbetIUAe6",
        "colab_type": "code",
        "colab": {
          "base_uri": "https://localhost:8080/",
          "height": 34
        },
        "outputId": "6076bfb0-6ddd-4c27-9c71-a3a8fdf47ac6"
      },
      "source": [
        "# evaluate in batches to avoid out-of-memory issues\n",
        "n_batches = mnist.test.images.shape[0] // 50\n",
        "cumulative_accuracy = 0.0\n",
        "for index in range(n_batches):\n",
        "    batch = mnist.test.next_batch(50)\n",
        "    cumulative_accuracy += accuracy.eval(feed_dict={x: batch[0], y_: batch[1], keep_prob: 1.0})\n",
        "print(\"test accuracy {}\".format(cumulative_accuracy / n_batches))"
      ],
      "execution_count": 85,
      "outputs": [
        {
          "output_type": "stream",
          "text": [
            "test accuracy 0.9681999999284744\n"
          ],
          "name": "stdout"
        }
      ]
    },
    {
      "cell_type": "markdown",
      "metadata": {
        "id": "VdCoeSFSb3rl",
        "colab_type": "text"
      },
      "source": [
        "So, as seen, accuracy is higher when we use Deep Learning approach."
      ]
    },
    {
      "cell_type": "markdown",
      "metadata": {
        "id": "xgsCrBeJcAk0",
        "colab_type": "text"
      },
      "source": [
        "## Visualization"
      ]
    },
    {
      "cell_type": "markdown",
      "metadata": {
        "id": "E0d2_kE7cLWE",
        "colab_type": "text"
      },
      "source": [
        "Let's see the kernels"
      ]
    },
    {
      "cell_type": "code",
      "metadata": {
        "id": "Rh9ruFWbZEoJ",
        "colab_type": "code",
        "colab": {}
      },
      "source": [
        "kernels = sess.run(tf.reshape(tf.transpose(W_conv1, perm=[2, 3, 0,1]),[32, -1]))"
      ],
      "execution_count": 0,
      "outputs": []
    },
    {
      "cell_type": "code",
      "metadata": {
        "id": "dJ_jaebUcGJJ",
        "colab_type": "code",
        "colab": {
          "base_uri": "https://localhost:8080/",
          "height": 730
        },
        "outputId": "9dd073e2-af4e-46ac-a11c-577221a54904"
      },
      "source": [
        "!wget --output-document utils1.py http://deeplearning.net/tutorial/code/utils.py\n",
        "import utils1\n",
        "from utils1 import tile_raster_images\n",
        "from PIL import Image\n",
        "\n",
        "%matplotlib inline\n",
        "image = Image.fromarray(tile_raster_images(kernels, img_shape=(5, 5) ,tile_shape=(4, 8), tile_spacing=(1, 1)))\n",
        "\n",
        "#Plot image\n",
        "plt.rcParams['figure.figsize'] = (18.0, 18.0)\n",
        "imgplot = plt.imshow(image)\n",
        "imgplot.set_cmap('gray')  "
      ],
      "execution_count": 87,
      "outputs": [
        {
          "output_type": "stream",
          "text": [
            "--2019-06-23 17:44:35--  http://deeplearning.net/tutorial/code/utils.py\n",
            "Resolving deeplearning.net (deeplearning.net)... 132.204.26.28\n",
            "Connecting to deeplearning.net (deeplearning.net)|132.204.26.28|:80... connected.\n",
            "HTTP request sent, awaiting response... 200 OK\n",
            "Length: 5097 (5.0K) [text/plain]\n",
            "Saving to: ‘utils1.py’\n",
            "\n",
            "utils1.py           100%[===================>]   4.98K  --.-KB/s    in 0s      \n",
            "\n",
            "2019-06-23 17:44:36 (415 MB/s) - ‘utils1.py’ saved [5097/5097]\n",
            "\n"
          ],
          "name": "stdout"
        },
        {
          "output_type": "display_data",
          "data": {
            "image/png": "[encoded data removed]",
            "text/plain": [
              "<Figure size 1296x1296 with 1 Axes>"
            ]
          },
          "metadata": {
            "tags": []
          }
        }
      ]
    },
    {
      "cell_type": "markdown",
      "metadata": {
        "id": "ceqF70Opcs23",
        "colab_type": "text"
      },
      "source": [
        "Let's see one sample image from mnist"
      ]
    },
    {
      "cell_type": "code",
      "metadata": {
        "id": "uv0eQpygcIg8",
        "colab_type": "code",
        "colab": {
          "base_uri": "https://localhost:8080/",
          "height": 340
        },
        "outputId": "b1cdef28-06f2-4cc4-8990-5fb7832d8dae"
      },
      "source": [
        "plt.rcParams['figure.figsize'] = (5.0, 5.0)\n",
        "sampleimage = mnist.test.images[1]\n",
        "plt.imshow(np.reshape(sampleimage,[28,28]), cmap=\"gray\")"
      ],
      "execution_count": 88,
      "outputs": [
        {
          "output_type": "execute_result",
          "data": {
            "text/plain": [
              "<matplotlib.image.AxesImage at 0x7fd6dce49c50>"
            ]
          },
          "metadata": {
            "tags": []
          },
          "execution_count": 88
        },
        {
          "output_type": "display_data",
          "data": {
            "image/png": "[encoded data removed]",
            "text/plain": [
              "<Figure size 360x360 with 1 Axes>"
            ]
          },
          "metadata": {
            "tags": []
          }
        }
      ]
    },
    {
      "cell_type": "markdown",
      "metadata": {
        "id": "tWAIqrS7c5qC",
        "colab_type": "text"
      },
      "source": [
        "Let's see the each filter that is applied at Layer 1"
      ]
    },
    {
      "cell_type": "code",
      "metadata": {
        "id": "bxdgZ4Uvca0_",
        "colab_type": "code",
        "colab": {
          "base_uri": "https://localhost:8080/",
          "height": 992
        },
        "outputId": "64e4b284-3202-495b-b203-82270cdc7ecc"
      },
      "source": [
        "ActivatedUnits = sess.run(convolve1,feed_dict={x:np.reshape(sampleimage,[1,784],order='F'),keep_prob:1.0})\n",
        "filters = ActivatedUnits.shape[3]\n",
        "plt.figure(1, figsize=(20,20))\n",
        "n_columns = 6\n",
        "n_rows = np.math.ceil(filters / n_columns) + 1\n",
        "for i in range(filters):\n",
        "    plt.subplot(n_rows, n_columns, i+1)\n",
        "    plt.title('Filter ' + str(i))\n",
        "    plt.imshow(ActivatedUnits[0,:,:,i], interpolation=\"nearest\", cmap=\"gray\")"
      ],
      "execution_count": 89,
      "outputs": [
        {
          "output_type": "display_data",
          "data": {
            "image/png": "[encoded data removed]",
            "text/plain": [
              "<Figure size 1440x1440 with 32 Axes>"
            ]
          },
          "metadata": {
            "tags": []
          }
        }
      ]
    },
    {
      "cell_type": "markdown",
      "metadata": {
        "id": "OYwTst6tdD9p",
        "colab_type": "text"
      },
      "source": [
        "Let's see the each filter that is applied at Layer 2"
      ]
    },
    {
      "cell_type": "code",
      "metadata": {
        "id": "RPS-Y6T7cdkB",
        "colab_type": "code",
        "colab": {
          "base_uri": "https://localhost:8080/",
          "height": 1028
        },
        "outputId": "f2cec257-3e6e-426f-838e-d02ca423c23e"
      },
      "source": [
        "ActivatedUnits = sess.run(convolve2,feed_dict={x:np.reshape(sampleimage,[1,784],order='F'),keep_prob:1.0})\n",
        "filters = ActivatedUnits.shape[3]\n",
        "plt.figure(1, figsize=(20,20))\n",
        "n_columns = 8\n",
        "n_rows = np.math.ceil(filters / n_columns) + 1\n",
        "for i in range(filters):\n",
        "    plt.subplot(n_rows, n_columns, i+1)\n",
        "    plt.title('Filter ' + str(i))\n",
        "    plt.imshow(ActivatedUnits[0,:,:,i], interpolation=\"nearest\", cmap=\"gray\")"
      ],
      "execution_count": 90,
      "outputs": [
        {
          "output_type": "display_data",
          "data": {
            "image/png": "[encoded data removed]",
            "text/plain": [
              "<Figure size 1440x1440 with 64 Axes>"
            ]
          },
          "metadata": {
            "tags": []
          }
        }
      ]
    },
    {
      "cell_type": "code",
      "metadata": {
        "id": "V8AW4NrLcgvk",
        "colab_type": "code",
        "colab": {}
      },
      "source": [
        "sess.close() #finish the session"
      ],
      "execution_count": 0,
      "outputs": []
    }
  ]
}