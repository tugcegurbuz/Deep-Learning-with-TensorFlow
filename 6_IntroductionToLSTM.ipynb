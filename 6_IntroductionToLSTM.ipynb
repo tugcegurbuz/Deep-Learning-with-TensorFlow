{
  "nbformat": 4,
  "nbformat_minor": 0,
  "metadata": {
    "colab": {
      "name": "DL_TF_Lab6.ipynb",
      "version": "0.3.2",
      "provenance": [],
      "collapsed_sections": [],
      "include_colab_link": true
    },
    "kernelspec": {
      "name": "python3",
      "display_name": "Python 3"
    }
  },
  "cells": [
    {
      "cell_type": "markdown",
      "metadata": {
        "id": "view-in-github",
        "colab_type": "text"
      },
      "source": [
        "<a href=\"https://colab.research.google.com/github/tugcegurbuz/Deep-Learning-with-TensorFlow/blob/master/6_IntroductionToLSTM.ipynb\" target=\"_parent\"><img src=\"https://colab.research.google.com/assets/colab-badge.svg\" alt=\"Open In Colab\"/></a>"
      ]
    },
    {
      "cell_type": "markdown",
      "metadata": {
        "id": "HUYNpBx5P9mX",
        "colab_type": "text"
      },
      "source": [
        "**Description:** Introduction to LSTM\n",
        "\n",
        "----"
      ]
    },
    {
      "cell_type": "markdown",
      "metadata": {
        "id": "dvvJrSFeRhpU",
        "colab_type": "text"
      },
      "source": [
        "**How LSTM Works:**\n",
        "\n",
        "An usual flow of operations for the LSTM unit is as such: First off, the Keep Gate has to decide whether to keep or forget the data currently stored in memory. It receives both the input and the state of the Recurrent Network, and passes it through its Sigmoid activation. If $K\n",
        "_t$ has value of 1 means that the LSTM unit should keep the data stored perfectly and if $K_t$ a value of 0 means that it should forget it entirely. Consider $S_{t-1}$ as the incoming (previous) state, $x_t$ as the incoming input, and $W_k$, $B_k$ as the weight and bias for the Keep Gate. Additionally, consider $Old_{t-1}$ as the data previously in memory. What happens can be summarized by this equation:\n",
        "\n",
        "$$K_t = \\sigma(W_k \\times [S_{t-1}, x_t] + B_k)$$\n",
        "\n",
        "$$Old_t = K_t \\times Old_{t-1}$$\n",
        "\n",
        "Then, the input and state are passed on to the Input Gate, in which there is another Sigmoid activation applied. Concurrently, the input is processed as normal by whatever processing unit is implemented in the network, and then multiplied by the Sigmoid activation's result $I_t$, much like the Keep Gate. Consider $W_i$ and $B_i$ as the weight and bias for the Input Gate, and $C_t$ the result of the processing of the inputs by the Recurrent Network. $New_t$ is the new data to be input into the memory cell. This is then **added**  to whatever value is still stored in memory.\n",
        "\n",
        "$$I_t = \\sigma(W_i\\times[S_{t-1},x_t]+B_i)$$\n",
        "\n",
        "$$New_t = I_t \\times C_t$$\n",
        "\n",
        "The conjunction of Keep and Input gates are working in analog manner so that we can keep part of the old data and add only the part of new data. Let's see what would happen if we set Forget gates as 0 and input gate as 1: (The old data will be forgetten totally and new data will overwrite it)\n",
        "\n",
        "$$Old_t = 0 \\times Old_{t-1}$$\n",
        "\n",
        "$$New_t = 1 \\times C_t$$\n",
        "\n",
        "$$Cell_t = C_t$$\n",
        "\n",
        "The Output Gate functions in a similar manner. To decide what we should output, we take the input data and state and pass it through a Sigmoid function as usual. The contents of our memory cell, however, are pushed onto a *Tanh* function to bind them between a value of -1 to 1. Consider $W_o$ and $B_o$ as the weight and bias for the Output Gate.\n",
        "\n",
        "$$O_t = \\sigma(W_o \\times [S_{t-1},x_t] + B_o)$$\n",
        "\n",
        "$$Output_t = O_t \\times tanh(Cell_t)$$\n",
        "\n",
        "Finally, output has put into RNN."
      ]
    },
    {
      "cell_type": "markdown",
      "metadata": {
        "id": "5Qr3l2b0UDSQ",
        "colab_type": "text"
      },
      "source": [
        "### One LSTM Unit Model"
      ]
    },
    {
      "cell_type": "code",
      "metadata": {
        "id": "YHPDjA6nv4_8",
        "colab_type": "code",
        "outputId": "763c3ea3-a21f-436d-8b9e-484b057230b2",
        "colab": {
          "base_uri": "https://localhost:8080/",
          "height": 34
        }
      },
      "source": [
        "import numpy as np\n",
        "import tensorflow as tf\n",
        "from tensorflow.contrib import rnn\n",
        "\n",
        "print(tf.__version__)"
      ],
      "execution_count": 1,
      "outputs": [
        {
          "output_type": "stream",
          "text": [
            "1.14.0\n"
          ],
          "name": "stdout"
        }
      ]
    },
    {
      "cell_type": "code",
      "metadata": {
        "id": "6FPmqj4AITci",
        "colab_type": "code",
        "colab": {}
      },
      "source": [
        "#Start the session\n",
        "sess = tf.Session()"
      ],
      "execution_count": 0,
      "outputs": []
    },
    {
      "cell_type": "code",
      "metadata": {
        "id": "ZGIpm1M1IZAI",
        "colab_type": "code",
        "outputId": "8e86c64a-4937-4068-b889-e096101b491a",
        "colab": {
          "base_uri": "https://localhost:8080/",
          "height": 105
        }
      },
      "source": [
        "#Define number of hidden units that is also equal to the size of the output\n",
        "hidden_num = 4\n",
        "\n",
        "#Define LSTM unit\n",
        "lstm_cell = rnn.BasicLSTMCell(hidden_num)"
      ],
      "execution_count": 3,
      "outputs": [
        {
          "output_type": "stream",
          "text": [
            "WARNING: Logging before flag parsing goes to stderr.\n",
            "W0722 22:10:31.577492 140688586958720 deprecation.py:323] From <ipython-input-3-25a689f5a3fe>:4: BasicLSTMCell.__init__ (from tensorflow.python.ops.rnn_cell_impl) is deprecated and will be removed in a future version.\n",
            "Instructions for updating:\n",
            "This class is equivalent as tf.keras.layers.LSTMCell, and will be replaced by that in Tensorflow 2.0.\n"
          ],
          "name": "stderr"
        }
      ]
    },
    {
      "cell_type": "code",
      "metadata": {
        "id": "Et112hYFI8g-",
        "colab_type": "code",
        "outputId": "2a38a2ec-f8b1-469b-8d3f-b696c7986a95",
        "colab": {
          "base_uri": "https://localhost:8080/",
          "height": 34
        }
      },
      "source": [
        "#Create a sample input\n",
        "sample_input = tf.constant([[3,2,2,2,2,2]],dtype=tf.float32)\n",
        "print (sess.run(sample_input))"
      ],
      "execution_count": 4,
      "outputs": [
        {
          "output_type": "stream",
          "text": [
            "[[3. 2. 2. 2. 2. 2.]]\n"
          ],
          "name": "stdout"
        }
      ]
    },
    {
      "cell_type": "code",
      "metadata": {
        "id": "MrVZex5VJHWJ",
        "colab_type": "code",
        "outputId": "731254b9-688f-4682-8ef3-058bdb82b0ac",
        "colab": {
          "base_uri": "https://localhost:8080/",
          "height": 139
        }
      },
      "source": [
        "#We have to pass 2 elements to LSTM, the prv_output and prv_state (h and c).\n",
        "#So, we initialize a state vector which is a tuple with 2 elements, \n",
        "#each one is of size [1 x 4], one for passing prv_output to next time step, \n",
        "#and another for passing the prv_state to next time stamp.\n",
        "\n",
        "state = (tf.zeros([1,hidden_num]),)*2\n",
        "\n",
        "#Run the LSTM unit\n",
        "with tf.variable_scope(\"LSTM_sample1\"):\n",
        "    output, state_next = lstm_cell(sample_input, state)"
      ],
      "execution_count": 5,
      "outputs": [
        {
          "output_type": "stream",
          "text": [
            "W0722 22:10:31.627731 140688586958720 deprecation.py:506] From /usr/local/lib/python3.6/dist-packages/tensorflow/python/ops/init_ops.py:1251: calling VarianceScaling.__init__ (from tensorflow.python.ops.init_ops) with dtype is deprecated and will be removed in a future version.\n",
            "Instructions for updating:\n",
            "Call initializer instance with the dtype argument instead of passing it to the constructor\n",
            "W0722 22:10:31.643100 140688586958720 deprecation.py:506] From /usr/local/lib/python3.6/dist-packages/tensorflow/python/ops/rnn_cell_impl.py:738: calling Zeros.__init__ (from tensorflow.python.ops.init_ops) with dtype is deprecated and will be removed in a future version.\n",
            "Instructions for updating:\n",
            "Call initializer instance with the dtype argument instead of passing it to the constructor\n"
          ],
          "name": "stderr"
        }
      ]
    },
    {
      "cell_type": "code",
      "metadata": {
        "id": "yYdZP3fSJPWY",
        "colab_type": "code",
        "outputId": "e39a153a-a6d7-4d65-fcb5-6a5b94246b95",
        "colab": {
          "base_uri": "https://localhost:8080/",
          "height": 54
        }
      },
      "source": [
        "#Initialize the variables\n",
        "sess.run(tf.global_variables_initializer())\n",
        "\n",
        "#Let's see the next state\n",
        "print (sess.run(state_next))"
      ],
      "execution_count": 6,
      "outputs": [
        {
          "output_type": "stream",
          "text": [
            "LSTMStateTuple(c=array([[0.8184926 , 0.44456646, 0.5677054 , 0.00412068]], dtype=float32), h=array([[0.34325895, 0.2783329 , 0.25642425, 0.00280078]], dtype=float32))\n"
          ],
          "name": "stdout"
        }
      ]
    },
    {
      "cell_type": "code",
      "metadata": {
        "id": "QVk-6AOFJeab",
        "colab_type": "code",
        "outputId": "3dbc2c92-e669-457a-b6ea-0080b34da393",
        "colab": {
          "base_uri": "https://localhost:8080/",
          "height": 34
        }
      },
      "source": [
        "#Let's see the output\n",
        "print(sess.run(output))"
      ],
      "execution_count": 7,
      "outputs": [
        {
          "output_type": "stream",
          "text": [
            "[[0.34325895 0.2783329  0.25642425 0.00280078]]\n"
          ],
          "name": "stdout"
        }
      ]
    },
    {
      "cell_type": "markdown",
      "metadata": {
        "id": "ZIMtDhN2RJiX",
        "colab_type": "text"
      },
      "source": [
        "### Stack LSTM Model"
      ]
    },
    {
      "cell_type": "code",
      "metadata": {
        "id": "V9f1fzuVRpKM",
        "colab_type": "code",
        "outputId": "4bc8b95b-0858-42df-e6fa-c2d71457419c",
        "colab": {
          "base_uri": "https://localhost:8080/",
          "height": 34
        }
      },
      "source": [
        "import numpy as np\n",
        "import tensorflow as tf\n",
        "from tensorflow.contrib import rnn\n",
        "\n",
        "print(tf.__version__)"
      ],
      "execution_count": 8,
      "outputs": [
        {
          "output_type": "stream",
          "text": [
            "1.14.0\n"
          ],
          "name": "stdout"
        }
      ]
    },
    {
      "cell_type": "code",
      "metadata": {
        "id": "Asbm0WUcJx3F",
        "colab_type": "code",
        "colab": {}
      },
      "source": [
        "#Let's start a new session\n",
        "sess.close()\n",
        "sess = tf.Session()"
      ],
      "execution_count": 0,
      "outputs": []
    },
    {
      "cell_type": "code",
      "metadata": {
        "id": "M7Mvhh3ERUk8",
        "colab_type": "code",
        "colab": {}
      },
      "source": [
        "#Define input dimension\n",
        "input_dim = 6"
      ],
      "execution_count": 0,
      "outputs": []
    },
    {
      "cell_type": "code",
      "metadata": {
        "id": "HKNKmldLSUc3",
        "colab_type": "code",
        "colab": {}
      },
      "source": [
        "#Initialize a vector which will hold all cells\n",
        "cells = []"
      ],
      "execution_count": 0,
      "outputs": []
    },
    {
      "cell_type": "code",
      "metadata": {
        "id": "kY2sTKxhSsoQ",
        "colab_type": "code",
        "colab": {
          "base_uri": "https://localhost:8080/",
          "height": 88
        },
        "outputId": "433759a2-e50e-498d-f6fe-36fd2ca9a782"
      },
      "source": [
        "#First Cell\n",
        "hidden_num_1 = 4 #4 hidden nodes\n",
        "cell1 = rnn.LSTMCell(hidden_num_1)\n",
        "cells.append(cell1)"
      ],
      "execution_count": 12,
      "outputs": [
        {
          "output_type": "stream",
          "text": [
            "W0722 22:10:37.786900 140688586958720 deprecation.py:323] From <ipython-input-12-d401a692e49c>:2: LSTMCell.__init__ (from tensorflow.python.ops.rnn_cell_impl) is deprecated and will be removed in a future version.\n",
            "Instructions for updating:\n",
            "This class is equivalent as tf.keras.layers.LSTMCell, and will be replaced by that in Tensorflow 2.0.\n"
          ],
          "name": "stderr"
        }
      ]
    },
    {
      "cell_type": "code",
      "metadata": {
        "id": "qeWpn5NmSugB",
        "colab_type": "code",
        "colab": {}
      },
      "source": [
        "#Second Cell\n",
        "hidden_num_2 = 5 #5 hidden nodes\n",
        "cell2 = rnn.LSTMCell(hidden_num_2)\n",
        "cells.append(cell2)"
      ],
      "execution_count": 0,
      "outputs": []
    },
    {
      "cell_type": "code",
      "metadata": {
        "id": "vbBRqQ7GaMzL",
        "colab_type": "code",
        "outputId": "5b0f8c76-18ee-479d-d9b1-a10ce28a1215",
        "colab": {
          "base_uri": "https://localhost:8080/",
          "height": 88
        }
      },
      "source": [
        "#Create the stacked LSTM\n",
        "stacked_lstm = rnn.MultiRNNCell(cells)"
      ],
      "execution_count": 14,
      "outputs": [
        {
          "output_type": "stream",
          "text": [
            "W0722 22:10:39.630931 140688586958720 deprecation.py:323] From <ipython-input-14-9329350013ab>:1: MultiRNNCell.__init__ (from tensorflow.python.ops.rnn_cell_impl) is deprecated and will be removed in a future version.\n",
            "Instructions for updating:\n",
            "This class is equivalent as tf.keras.layers.StackedRNNCells, and will be replaced by that in Tensorflow 2.0.\n"
          ],
          "name": "stderr"
        }
      ]
    },
    {
      "cell_type": "code",
      "metadata": {
        "id": "deXBldx_aYN-",
        "colab_type": "code",
        "outputId": "48727da2-af34-41b1-dfb8-9256c9423d36",
        "colab": {
          "base_uri": "https://localhost:8080/",
          "height": 88
        }
      },
      "source": [
        "#Let's create RNN from stacked LSTM\n",
        "\n",
        "#Data: Batch size x time steps x features.\n",
        "data = tf.placeholder(tf.float32, [None, None, input_dim])\n",
        "\n",
        "#RNN\n",
        "output, state = tf.nn.dynamic_rnn(stacked_lstm, data, dtype=tf.float32)"
      ],
      "execution_count": 15,
      "outputs": [
        {
          "output_type": "stream",
          "text": [
            "W0722 22:10:40.794391 140688586958720 deprecation.py:323] From <ipython-input-15-003b165e6aac>:4: dynamic_rnn (from tensorflow.python.ops.rnn) is deprecated and will be removed in a future version.\n",
            "Instructions for updating:\n",
            "Please use `keras.layers.RNN(cell)`, which is equivalent to this API\n"
          ],
          "name": "stderr"
        }
      ]
    },
    {
      "cell_type": "code",
      "metadata": {
        "id": "zxkqX1VuatwE",
        "colab_type": "code",
        "outputId": "37b6a281-19b1-4196-bbf4-4ddeef9175b0",
        "colab": {
          "base_uri": "https://localhost:8080/",
          "height": 51
        }
      },
      "source": [
        "#Define a sample input\n",
        "\n",
        "#Lets say the input sequence length is 3, the dimensionality of the inputs is 6.\n",
        "#The input would be (2, 3, 6) shape\n",
        "\n",
        "sample_input = [[[1,2,3,4,3,2], [1,2,1,1,1,2],[1,2,2,2,2,2]],\n",
        "                [[1,2,3,4,3,2],[3,2,2,1,1,2],[0,0,0,0,3,2]]]\n",
        "sample_input"
      ],
      "execution_count": 16,
      "outputs": [
        {
          "output_type": "execute_result",
          "data": {
            "text/plain": [
              "[[[1, 2, 3, 4, 3, 2], [1, 2, 1, 1, 1, 2], [1, 2, 2, 2, 2, 2]],\n",
              " [[1, 2, 3, 4, 3, 2], [3, 2, 2, 1, 1, 2], [0, 0, 0, 0, 3, 2]]]"
            ]
          },
          "metadata": {
            "tags": []
          },
          "execution_count": 16
        }
      ]
    },
    {
      "cell_type": "code",
      "metadata": {
        "id": "f_IWvIzTbsn1",
        "colab_type": "code",
        "colab": {
          "base_uri": "https://localhost:8080/",
          "height": 34
        },
        "outputId": "7062a6cf-f7d7-43e3-efde-9eb629a26dd8"
      },
      "source": [
        "output"
      ],
      "execution_count": 17,
      "outputs": [
        {
          "output_type": "execute_result",
          "data": {
            "text/plain": [
              "<tf.Tensor 'rnn/transpose_1:0' shape=(?, ?, 5) dtype=float32>"
            ]
          },
          "metadata": {
            "tags": []
          },
          "execution_count": 17
        }
      ]
    },
    {
      "cell_type": "code",
      "metadata": {
        "id": "H-R1s-CgvK8t",
        "colab_type": "code",
        "colab": {
          "base_uri": "https://localhost:8080/",
          "height": 238
        },
        "outputId": "f36bcc93-9b96-4e9e-8235-e7d6372b0b3e"
      },
      "source": [
        "sess.run(tf.global_variables_initializer())\n",
        "sess.run(output, feed_dict={data: sample_input})"
      ],
      "execution_count": 18,
      "outputs": [
        {
          "output_type": "execute_result",
          "data": {
            "text/plain": [
              "array([[[-0.01378634,  0.00034683,  0.03838394,  0.02868149,\n",
              "          0.05398444],\n",
              "        [-0.04609454,  0.01659227,  0.06698639,  0.03768126,\n",
              "          0.11669935],\n",
              "        [-0.07558274,  0.0281612 ,  0.09719814,  0.04549597,\n",
              "          0.18208914]],\n",
              "\n",
              "       [[-0.01378634,  0.00034683,  0.03838394,  0.02868149,\n",
              "          0.05398444],\n",
              "        [-0.03996516,  0.03149408,  0.04251051,  0.02974791,\n",
              "          0.08969524],\n",
              "        [-0.05997536,  0.03263183,  0.04433766,  0.02388369,\n",
              "          0.10596982]]], dtype=float32)"
            ]
          },
          "metadata": {
            "tags": []
          },
          "execution_count": 18
        }
      ]
    },
    {
      "cell_type": "code",
      "metadata": {
        "id": "jFoP-PgCvO3y",
        "colab_type": "code",
        "colab": {}
      },
      "source": [
        ""
      ],
      "execution_count": 0,
      "outputs": []
    }
  ]
}