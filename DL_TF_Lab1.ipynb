{
  "nbformat": 4,
  "nbformat_minor": 0,
  "metadata": {
    "colab": {
      "name": "DL_TF_Lab1.ipynb",
      "version": "0.3.2",
      "provenance": [],
      "collapsed_sections": [],
      "include_colab_link": true
    },
    "kernelspec": {
      "name": "python3",
      "display_name": "Python 3"
    }
  },
  "cells": [
    {
      "cell_type": "markdown",
      "metadata": {
        "id": "view-in-github",
        "colab_type": "text"
      },
      "source": [
        "<a href=\"https://colab.research.google.com/github/tugcegurbuz/DeepLearning_TF/blob/master/DL_TF_Lab1.ipynb\" target=\"_parent\"><img src=\"https://colab.research.google.com/assets/colab-badge.svg\" alt=\"Open In Colab\"/></a>"
      ]
    },
    {
      "cell_type": "markdown",
      "metadata": {
        "id": "jI3dw4TPDJy2",
        "colab_type": "text"
      },
      "source": [
        "**Description:** In this lab we will deal with basic, silly TensorFlow. \n",
        "\n",
        "*Learning Objectives:  building a graph, defining constants and variables, defining operation and place holders* \n",
        "\n",
        "Reference: https://labs.cognitiveclass.ai/tools/jupyterlab/lab/tree/labs/ML0120EN/ML0120EN-1.1-Review-TensorFlow-Hello-World.ipynb\n",
        "\n",
        "Prepared by Tugce Gurbuz"
      ]
    },
    {
      "cell_type": "code",
      "metadata": {
        "id": "U0nR2UXSAdyR",
        "colab_type": "code",
        "colab": {}
      },
      "source": [
        "import tensorflow as tf"
      ],
      "execution_count": 0,
      "outputs": []
    },
    {
      "cell_type": "markdown",
      "metadata": {
        "id": "H5fS4M07E8Jo",
        "colab_type": "text"
      },
      "source": [
        "**1)  0 Dimensional Arrays**\n",
        "\n",
        "Graph1 will show how to define a 0 dimensional array"
      ]
    },
    {
      "cell_type": "code",
      "metadata": {
        "id": "ydeIa8sfAfv7",
        "colab_type": "code",
        "colab": {}
      },
      "source": [
        "#TensorFlow works as a graph computational model. Let's create our first graph which we named as graph1\n",
        "graph1 = tf.Graph()"
      ],
      "execution_count": 0,
      "outputs": []
    },
    {
      "cell_type": "code",
      "metadata": {
        "id": "jqp_pCV-Jh5C",
        "colab_type": "code",
        "colab": {}
      },
      "source": [
        "#Define 0 dimensional (scalar value) 2 constants: a and b.\n",
        "with graph1.as_default():\n",
        "    a = tf.constant([2], name = 'constant_a')\n",
        "    b = tf.constant([3], name = 'constant_b')"
      ],
      "execution_count": 0,
      "outputs": []
    },
    {
      "cell_type": "markdown",
      "metadata": {
        "id": "tKSW3UjMLAHn",
        "colab_type": "text"
      },
      "source": [
        "For example, calling tf.constant([2], name = 'constant_a') adds a single tf.Operation to the default graph. This operation produces the value 2, and returns a tf.Tensor that represents the value of the constant."
      ]
    },
    {
      "cell_type": "code",
      "metadata": {
        "id": "mFlth91QLCAP",
        "colab_type": "code",
        "outputId": "2c71c1d2-06c6-4e85-95f8-314be026b0a8",
        "colab": {
          "base_uri": "https://localhost:8080/",
          "height": 51
        }
      },
      "source": [
        "#Let's see constant a and b\n",
        "a, b"
      ],
      "execution_count": 66,
      "outputs": [
        {
          "output_type": "execute_result",
          "data": {
            "text/plain": [
              "(<tf.Tensor 'constant_a_1:0' shape=(1,) dtype=int32>,\n",
              " <tf.Tensor 'constant_b_1:0' shape=(1,) dtype=int32>)"
            ]
          },
          "metadata": {
            "tags": []
          },
          "execution_count": 66
        }
      ]
    },
    {
      "cell_type": "markdown",
      "metadata": {
        "id": "OkYPFoRc8aP3",
        "colab_type": "text"
      },
      "source": [
        "As you see, it prints just name, shape and type of the tensor. Now we will print the value of the constant when we run them in tensorflow **session**.\n",
        "\n",
        "Steps: Open session --> Run the session --> Close the session"
      ]
    },
    {
      "cell_type": "code",
      "metadata": {
        "id": "iqgRtHVmLOuC",
        "colab_type": "code",
        "colab": {
          "base_uri": "https://localhost:8080/",
          "height": 34
        },
        "outputId": "85106330-4eac-4c27-bdcc-c88f45a52988"
      },
      "source": [
        "# Printing the value of a and b\n",
        "sess = tf.Session(graph = graph1)\n",
        "result_a = sess.run(a)\n",
        "result_b = sess.run(b)\n",
        "\n",
        "print('Result of a %d and result of b %d' %(result_a, result_b))\n",
        "sess.close()  "
      ],
      "execution_count": 6,
      "outputs": [
        {
          "output_type": "stream",
          "text": [
            "Result of a 2 and result of b 3\n"
          ],
          "name": "stdout"
        }
      ]
    },
    {
      "cell_type": "code",
      "metadata": {
        "id": "4au9vDrY89sl",
        "colab_type": "code",
        "colab": {}
      },
      "source": [
        "#Let's make operation with the constants!\n",
        "#Let's add constant a and b with tf.add(). c = a + b\n",
        "\n",
        "with graph1.as_default():\n",
        "  c = tf.add(a, b)\n"
      ],
      "execution_count": 0,
      "outputs": []
    },
    {
      "cell_type": "code",
      "metadata": {
        "id": "Embijup-9gO1",
        "colab_type": "code",
        "colab": {
          "base_uri": "https://localhost:8080/",
          "height": 34
        },
        "outputId": "43ecbaf3-9f17-485c-e105-df7159e9dfb4"
      },
      "source": [
        "#Let's see c\n",
        "c"
      ],
      "execution_count": 65,
      "outputs": [
        {
          "output_type": "execute_result",
          "data": {
            "text/plain": [
              "<tf.Tensor 'Add_1:0' shape=(1,) dtype=int32>"
            ]
          },
          "metadata": {
            "tags": []
          },
          "execution_count": 65
        }
      ]
    },
    {
      "cell_type": "markdown",
      "metadata": {
        "id": "wLRrvkzP954e",
        "colab_type": "text"
      },
      "source": [
        "Again, to see the result of the c, we need to run a **session**. In this sense, sessions are defined as the context in which we form the data flow graphs."
      ]
    },
    {
      "cell_type": "code",
      "metadata": {
        "id": "D_zgQnpF-KdV",
        "colab_type": "code",
        "colab": {
          "base_uri": "https://localhost:8080/",
          "height": 34
        },
        "outputId": "eceec964-4ffe-42b6-8a6a-4178e79fd0c0"
      },
      "source": [
        "sess = tf.Session(graph = graph1)\n",
        "result_c = sess.run(c)\n",
        "print('Result of c is %d' %result_c)\n",
        "sess.close()"
      ],
      "execution_count": 23,
      "outputs": [
        {
          "output_type": "stream",
          "text": [
            "Result of c is 5\n"
          ],
          "name": "stdout"
        }
      ]
    },
    {
      "cell_type": "markdown",
      "metadata": {
        "id": "1WtBbyacByCy",
        "colab_type": "text"
      },
      "source": [
        "If you don't want to close every time you run a session, you can run it inside a with-block. So, it will close it automatically!"
      ]
    },
    {
      "cell_type": "code",
      "metadata": {
        "id": "4OWnQTVK-PUy",
        "colab_type": "code",
        "colab": {}
      },
      "source": [
        "#Running sessions inside of a with block\n",
        "\n",
        "with tf.Session(graph = graph1) as sess:\n",
        "  result_a = sess.run(a)\n",
        "  result_b = sess.run(b)\n",
        "  result_c = sess.run(c)"
      ],
      "execution_count": 0,
      "outputs": []
    },
    {
      "cell_type": "code",
      "metadata": {
        "id": "epQjUXnxCisj",
        "colab_type": "code",
        "colab": {
          "base_uri": "https://localhost:8080/",
          "height": 34
        },
        "outputId": "aa6f2116-1d05-400e-e4e3-20c380fda94d"
      },
      "source": [
        "#Let's see results\n",
        "print('Result of a is %d; result of b is %d; result of c is %d' %(result_a, result_b, result_c))"
      ],
      "execution_count": 25,
      "outputs": [
        {
          "output_type": "stream",
          "text": [
            "Result of a is 2; result of b is 3; result of c is 5\n"
          ],
          "name": "stdout"
        }
      ]
    },
    {
      "cell_type": "markdown",
      "metadata": {
        "id": "ME9R8-LqFaec",
        "colab_type": "text"
      },
      "source": [
        "**2) Multidimensional Arrays**\n",
        "\n",
        "Graph2 will show how to define arrays with different dimensions.\n",
        "\n",
        "Graph3 will show how to define operations with multiple dimensions"
      ]
    },
    {
      "cell_type": "code",
      "metadata": {
        "id": "tlX5h78sFygB",
        "colab_type": "code",
        "colab": {}
      },
      "source": [
        "#Define Graph2\n",
        "graph2 = tf.Graph()"
      ],
      "execution_count": 0,
      "outputs": []
    },
    {
      "cell_type": "code",
      "metadata": {
        "id": "d4Uje6a7F_Yn",
        "colab_type": "code",
        "colab": {}
      },
      "source": [
        "#Add constants\n",
        "with graph2.as_default():\n",
        "    Scalar = tf.constant(2) #0 dimensional\n",
        "    Vector = tf.constant([5,6,2]) #1 dimensional\n",
        "    Matrix = tf.constant([\n",
        "                          [1,2,3],\n",
        "                          [2,3,4],\n",
        "                          [3,4,5]\n",
        "                          ]) #2 dimensional\n",
        "    Tensor = tf.constant([\n",
        "                          [[1,2,3],[2,3,4],[3,4,5]],\n",
        "                          [[4,5,6],[5,6,7],[6,7,8]],\n",
        "                          [[7,8,9],[8,9,10],[9,10,11]]\n",
        "                          ]) #3 dimensional"
      ],
      "execution_count": 0,
      "outputs": []
    },
    {
      "cell_type": "code",
      "metadata": {
        "id": "vhLbajCUGBmc",
        "colab_type": "code",
        "colab": {
          "base_uri": "https://localhost:8080/",
          "height": 85
        },
        "outputId": "5abfbe3b-2664-445e-bbb2-5b49cbb93bef"
      },
      "source": [
        "#Let's see our arrays of different dimensions\n",
        "Scalar, Vector, Matrix, Tensor"
      ],
      "execution_count": 35,
      "outputs": [
        {
          "output_type": "execute_result",
          "data": {
            "text/plain": [
              "(<tf.Tensor 'Const_12:0' shape=() dtype=int32>,\n",
              " <tf.Tensor 'Const_13:0' shape=(3,) dtype=int32>,\n",
              " <tf.Tensor 'Const_14:0' shape=(3, 3) dtype=int32>,\n",
              " <tf.Tensor 'Const_15:0' shape=(3, 3, 3) dtype=int32>)"
            ]
          },
          "metadata": {
            "tags": []
          },
          "execution_count": 35
        }
      ]
    },
    {
      "cell_type": "code",
      "metadata": {
        "id": "OiKV7opsHsVG",
        "colab_type": "code",
        "colab": {
          "base_uri": "https://localhost:8080/",
          "height": 85
        },
        "outputId": "cb692c39-6d62-4f69-92b2-aedea2c06f0c"
      },
      "source": [
        "#tf.shape gives the shape of the values:\n",
        "Scalar.shape, Vector.shape, Matrix.shape, Tensor.shape"
      ],
      "execution_count": 39,
      "outputs": [
        {
          "output_type": "execute_result",
          "data": {
            "text/plain": [
              "(TensorShape([]),\n",
              " TensorShape([Dimension(3)]),\n",
              " TensorShape([Dimension(3), Dimension(3)]),\n",
              " TensorShape([Dimension(3), Dimension(3), Dimension(3)]))"
            ]
          },
          "metadata": {
            "tags": []
          },
          "execution_count": 39
        }
      ]
    },
    {
      "cell_type": "code",
      "metadata": {
        "id": "DulxtIYCHFDp",
        "colab_type": "code",
        "colab": {
          "base_uri": "https://localhost:8080/",
          "height": 425
        },
        "outputId": "76bcbd6d-a910-4a9e-dea4-1343c858e6f1"
      },
      "source": [
        "#Run sessions\n",
        "with tf.Session(graph = graph2) as sess:\n",
        "    result = sess.run(Scalar)\n",
        "    print (\"Scalar (1 entry):\\n %s \\n\" % result)\n",
        "    result = sess.run(Vector)\n",
        "    print (\"Vector (3 entries) :\\n %s \\n\" % result)\n",
        "    result = sess.run(Matrix)\n",
        "    print (\"Matrix (3x3 entries):\\n %s \\n\" % result)\n",
        "    result = sess.run(Tensor)\n",
        "    print (\"Tensor (3x3x3 entries) :\\n %s \\n\" % result)"
      ],
      "execution_count": 31,
      "outputs": [
        {
          "output_type": "stream",
          "text": [
            "Scalar (1 entry):\n",
            " 2 \n",
            "\n",
            "Vector (3 entries) :\n",
            " [5 6 2] \n",
            "\n",
            "Matrix (3x3 entries):\n",
            " [[1 2 3]\n",
            " [2 3 4]\n",
            " [3 4 5]] \n",
            "\n",
            "Tensor (3x3x3 entries) :\n",
            " [[[ 1  2  3]\n",
            "  [ 2  3  4]\n",
            "  [ 3  4  5]]\n",
            "\n",
            " [[ 4  5  6]\n",
            "  [ 5  6  7]\n",
            "  [ 6  7  8]]\n",
            "\n",
            " [[ 7  8  9]\n",
            "  [ 8  9 10]\n",
            "  [ 9 10 11]]] \n",
            "\n"
          ],
          "name": "stdout"
        }
      ]
    },
    {
      "cell_type": "code",
      "metadata": {
        "id": "D3qRynd1HUA9",
        "colab_type": "code",
        "colab": {
          "base_uri": "https://localhost:8080/",
          "height": 153
        },
        "outputId": "7e2c8f7b-ef68-4e03-cc3a-7e139d536af0"
      },
      "source": [
        "#Let's define a operation for 3 matrices with graph3:\n",
        "#First we will add 3 matrices, then we will do matrix multiplication\n",
        "\n",
        "#Define graph3\n",
        "graph3 = tf.Graph()\n",
        "\n",
        "#Define matrices\n",
        "with graph3.as_default():\n",
        "  matrix1 = tf.constant([\n",
        "                         [1, 0, 0],\n",
        "                         [0, 1, 0],\n",
        "                         [0, 0, 1]\n",
        "                        ])\n",
        "  \n",
        "  matrix2 = tf.constant([\n",
        "                       [2, 6, 0],\n",
        "                       [-3, 3, 9],\n",
        "                       [2, 4, 11]\n",
        "                      ])\n",
        "  matrix3 = tf.constant([\n",
        "                       [11, -4, 5],\n",
        "                       [1, -34, 26],\n",
        "                       [2, 9, -3]\n",
        "                      ])\n",
        "  \n",
        "  #add them\n",
        "  matrix4 = matrix1 + matrix2 + matrix3\n",
        "  \n",
        "  #matrix multiplication\n",
        "  mul_operation = tf.matmul(tf.matmul(matrix1, matrix2), matrix3)\n",
        "  \n",
        "#Define session\n",
        "with tf.Session(graph = graph3) as sess:\n",
        "  result = sess.run(matrix4)\n",
        "  print('Addition of matrices is equal to \\n %s' %result)\n",
        "  result = sess.run(mul_operation)\n",
        "  print('Matrix multiplication of matrices is equal to \\n %s' %result)\n",
        "  \n",
        "  ##Note: * symbol does element wise multiplication known as Hadamard \n",
        "  ##multiplication"
      ],
      "execution_count": 59,
      "outputs": [
        {
          "output_type": "stream",
          "text": [
            "Addition of matrices is equal to \n",
            " [[ 14   2   5]\n",
            " [ -2 -30  35]\n",
            " [  4  13   9]]\n",
            "Matrix multiplication of matrices is equal to \n",
            " [[  28 -212  166]\n",
            " [ -12   -9   36]\n",
            " [  48  -45   81]]\n"
          ],
          "name": "stdout"
        }
      ]
    },
    {
      "cell_type": "markdown",
      "metadata": {
        "id": "F4vgPHtUM4v-",
        "colab_type": "text"
      },
      "source": [
        "**3) Variables **\n",
        "\n",
        "You cannot update constants, but you can update variables through each session."
      ]
    },
    {
      "cell_type": "code",
      "metadata": {
        "id": "F-r0x3m6N0XI",
        "colab_type": "code",
        "colab": {}
      },
      "source": [
        "#define variable\n",
        "x = tf.Variable(0)"
      ],
      "execution_count": 0,
      "outputs": []
    },
    {
      "cell_type": "code",
      "metadata": {
        "id": "29WzMUO7OOzi",
        "colab_type": "code",
        "colab": {
          "base_uri": "https://localhost:8080/",
          "height": 34
        },
        "outputId": "dd547fa3-d524-47a6-e7e6-779ecf41aef1"
      },
      "source": [
        "#Let's see our variable\n",
        "x"
      ],
      "execution_count": 70,
      "outputs": [
        {
          "output_type": "execute_result",
          "data": {
            "text/plain": [
              "<tf.Variable 'Variable_2:0' shape=() dtype=int32_ref>"
            ]
          },
          "metadata": {
            "tags": []
          },
          "execution_count": 70
        }
      ]
    },
    {
      "cell_type": "code",
      "metadata": {
        "id": "AEL4nFLmOaxZ",
        "colab_type": "code",
        "colab": {}
      },
      "source": [
        "#Let's update our variable\n",
        "#Assign function simply takes reference value and updated value\n",
        "\n",
        "update = tf.assign(x, x+1)"
      ],
      "execution_count": 0,
      "outputs": []
    },
    {
      "cell_type": "code",
      "metadata": {
        "id": "BfnUEux6PTmn",
        "colab_type": "code",
        "colab": {}
      },
      "source": [
        "#To be able to use variables in a computation graph it is necessary to \n",
        "#initialize them before running the graph in a session. \n",
        "#This is done by running tf.global_variables_initializer().\n",
        "\n",
        "init_op = tf.global_variables_initializer()"
      ],
      "execution_count": 0,
      "outputs": []
    },
    {
      "cell_type": "code",
      "metadata": {
        "id": "r4lGCQDdPaQo",
        "colab_type": "code",
        "colab": {
          "base_uri": "https://localhost:8080/",
          "height": 153
        },
        "outputId": "21ffc2bd-5c98-40b3-f5ea-bbd51bcef9e5"
      },
      "source": [
        "#Let's run a session and update our variable during the session\n",
        "with tf.Session() as sess:\n",
        "    sess.run(init_op)\n",
        "    print('Reference value is %s\\n' %sess.run(x))\n",
        "    \n",
        "    for i in range(3):\n",
        "        sess.run(update)\n",
        "        print('Updated value is %s\\n' %sess.run(x))"
      ],
      "execution_count": 80,
      "outputs": [
        {
          "output_type": "stream",
          "text": [
            "Reference value is 0\n",
            "\n",
            "Updated value is 1\n",
            "\n",
            "Updated value is 2\n",
            "\n",
            "Updated value is 3\n",
            "\n"
          ],
          "name": "stdout"
        }
      ]
    },
    {
      "cell_type": "markdown",
      "metadata": {
        "id": "qEvZhiJ_QFLU",
        "colab_type": "text"
      },
      "source": [
        "**4) Placeholders**\n",
        "\n",
        "What abou feeding data outside of the TensorFlow graph? **Placeholders** are kind of holes in your graph that you can pass data."
      ]
    },
    {
      "cell_type": "code",
      "metadata": {
        "id": "wLZUbP3FPxE4",
        "colab_type": "code",
        "colab": {}
      },
      "source": [
        "#Define a placeholder\n",
        "#It takes datatype as an input\n",
        "h = tf.placeholder(tf.float32)"
      ],
      "execution_count": 0,
      "outputs": []
    },
    {
      "cell_type": "code",
      "metadata": {
        "id": "hK_G3RkbQ4AI",
        "colab_type": "code",
        "colab": {
          "base_uri": "https://localhost:8080/",
          "height": 34
        },
        "outputId": "a5dc606a-e80e-418e-ddf8-8573cdd8a323"
      },
      "source": [
        "#Let's see our place holder\n",
        "h"
      ],
      "execution_count": 82,
      "outputs": [
        {
          "output_type": "execute_result",
          "data": {
            "text/plain": [
              "<tf.Tensor 'Placeholder:0' shape=<unknown> dtype=float32>"
            ]
          },
          "metadata": {
            "tags": []
          },
          "execution_count": 82
        }
      ]
    },
    {
      "cell_type": "code",
      "metadata": {
        "id": "u469827zQ6Zm",
        "colab_type": "code",
        "colab": {
          "base_uri": "https://localhost:8080/",
          "height": 34
        },
        "outputId": "72aa9cc8-1f06-445e-cf90-7504c36ef1da"
      },
      "source": [
        "#Let's define a simple adding operation\n",
        "ho = h * 2\n",
        "ho"
      ],
      "execution_count": 84,
      "outputs": [
        {
          "output_type": "execute_result",
          "data": {
            "text/plain": [
              "<tf.Tensor 'mul_1:0' shape=<unknown> dtype=float32>"
            ]
          },
          "metadata": {
            "tags": []
          },
          "execution_count": 84
        }
      ]
    },
    {
      "cell_type": "code",
      "metadata": {
        "id": "YzZj4mTeRF5l",
        "colab_type": "code",
        "colab": {
          "base_uri": "https://localhost:8080/",
          "height": 51
        },
        "outputId": "d66cd8d9-6de3-44a4-92c4-68ec1bcfd44e"
      },
      "source": [
        "#To pass the data into the model we call the session with an extra argument \n",
        "#\"feed_dict\" in which we should pass a dictionary with each placeholder name \n",
        "#followed by its respective data, just like this:\n",
        "\n",
        "with tf.Session() as sess:\n",
        "    result = sess.run(ho,feed_dict={h:3.5})\n",
        "    print ('Passed data resulted %s\\n' %result)"
      ],
      "execution_count": 86,
      "outputs": [
        {
          "output_type": "stream",
          "text": [
            "Passed data resulted 7.0\n",
            "\n"
          ],
          "name": "stdout"
        }
      ]
    },
    {
      "cell_type": "code",
      "metadata": {
        "id": "lmZtH6ngRk7j",
        "colab_type": "code",
        "colab": {
          "base_uri": "https://localhost:8080/",
          "height": 204
        },
        "outputId": "a4d92b93-bf49-49e1-86e2-57b74bfd224b"
      },
      "source": [
        "#We can also pass more dimensional data from the operation\n",
        "dictionary={h: [ \n",
        "                 [ [1,2,3],[4,5,6],[7,8,9],[10,11,12] ], \n",
        "                 [ [13,14,15],[16,17,18],[19,20,21],[22,23,24] ] \n",
        "                 ] \n",
        "           }\n",
        "\n",
        "with tf.Session() as sess:\n",
        "    result = sess.run(ho,feed_dict=dictionary)\n",
        "    print ('Passed data resulted \\n%s\\n' %result)"
      ],
      "execution_count": 90,
      "outputs": [
        {
          "output_type": "stream",
          "text": [
            "Passed data resulted \n",
            "[[[ 2.  4.  6.]\n",
            "  [ 8. 10. 12.]\n",
            "  [14. 16. 18.]\n",
            "  [20. 22. 24.]]\n",
            "\n",
            " [[26. 28. 30.]\n",
            "  [32. 34. 36.]\n",
            "  [38. 40. 42.]\n",
            "  [44. 46. 48.]]]\n",
            "\n"
          ],
          "name": "stdout"
        }
      ]
    },
    {
      "cell_type": "markdown",
      "metadata": {
        "id": "frMlFioKUURp",
        "colab_type": "text"
      },
      "source": [
        "**5) Operations**\n",
        "\n",
        "More operations can be found from: https://www.tensorflow.org/api_docs/python"
      ]
    }
  ]
}